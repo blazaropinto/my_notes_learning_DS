{
 "cells": [
  {
   "cell_type": "markdown",
   "metadata": {},
   "source": [
    "# Classification metrics\n",
    "\n",
    ">  The decision on how to evaluai if an algorithm works balances the real-world use of the algorithm, the mathematical properties of the evaluation function, and the interpretability of the measure.\n",
    "\n",
    "#### accuracy\n",
    "\n",
    "fraction of correctly classified samples, to measure model performance.\n",
    "from the confusion matrix: it's the sum of the diagonal divided by the total sum of the matrix.\n",
    "\n",
    "> It is a simple measure that tells us what percentage of rows we got right.\n",
    "\n",
    "####  Precision (positive predictive value or PPV)\n",
    "\n",
    "the number of true positives divided by the total number of true positives and false positives.\n",
    "\n",
    "#### Recall ( sensitivity, hit rate, or true positive rate)\n",
    "\n",
    "the number of true positives divided by the total number of true positives and false negatives. \n",
    "\n",
    "#### F1-score \n",
    "\n",
    "two times the product of the precision and recall divided by the sum of the precision and recall, or the harmonic mean of precision and recall.\n",
    "\n",
    "* For all metrics in scikit-learn, the first argument is always the true label and the prediction is always the second argument."
   ]
  },
  {
   "cell_type": "code",
   "execution_count": 1,
   "metadata": {},
   "outputs": [],
   "source": [
    "#imports for loading data\n",
    "from sklearn import datasets\n",
    "import numpy as np\n",
    "#imports for training model\n",
    "from sklearn.model_selection import train_test_split \n",
    "from sklearn.neighbors import KNeighborsClassifier\n",
    "#for evaluation\n",
    "from sklearn.metrics import classification_report \n",
    "from sklearn.metrics import confusion_matrix "
   ]
  },
  {
   "cell_type": "code",
   "execution_count": 2,
   "metadata": {},
   "outputs": [],
   "source": [
    "#load dataset\n",
    "iris = datasets.load_iris()\n",
    "#prepare data\n",
    "X = iris.data\n",
    "y = iris.target"
   ]
  },
  {
   "cell_type": "code",
   "execution_count": 3,
   "metadata": {},
   "outputs": [],
   "source": [
    "# Create training and test set\n",
    "X_train, X_test, y_train, y_test = train_test_split(X,y, test_size=0.3, random_state=5555)\n",
    "\n",
    "# Instantiate a k-NN classifier: knn\n",
    "knn = KNeighborsClassifier(n_neighbors=6)\n",
    "\n",
    "# Fit the classifier to the training data\n",
    "knn.fit(X_train,y_train)\n",
    "\n",
    "# Predict the labels of the test data: y_pred\n",
    "y_pred = knn.predict(X_test)"
   ]
  },
  {
   "cell_type": "code",
   "execution_count": 4,
   "metadata": {},
   "outputs": [
    {
     "name": "stdout",
     "output_type": "stream",
     "text": [
      "[[12  0  0]\n",
      " [ 0 16  1]\n",
      " [ 0  1 15]]\n",
      "              precision    recall  f1-score   support\n",
      "\n",
      "           0       1.00      1.00      1.00        12\n",
      "           1       0.94      0.94      0.94        17\n",
      "           2       0.94      0.94      0.94        16\n",
      "\n",
      "    accuracy                           0.96        45\n",
      "   macro avg       0.96      0.96      0.96        45\n",
      "weighted avg       0.96      0.96      0.96        45\n",
      "\n"
     ]
    }
   ],
   "source": [
    "# Generate the confusion matrix and classification report\n",
    "print(confusion_matrix(y_test, y_pred))\n",
    "print(classification_report(y_test, y_pred))"
   ]
  },
  {
   "cell_type": "markdown",
   "metadata": {},
   "source": [
    "#### Log loss \n",
    "generally called a \"loss function\", it is a measure of error. We want our error to be as small as possible, which is the opposite of a metric like accuracy, where we want to maximize the value."
   ]
  }
 ],
 "metadata": {
  "kernelspec": {
   "display_name": "Python 3",
   "language": "python",
   "name": "python3"
  },
  "language_info": {
   "codemirror_mode": {
    "name": "ipython",
    "version": 3
   },
   "file_extension": ".py",
   "mimetype": "text/x-python",
   "name": "python",
   "nbconvert_exporter": "python",
   "pygments_lexer": "ipython3",
   "version": "3.8.5"
  }
 },
 "nbformat": 4,
 "nbformat_minor": 4
}
