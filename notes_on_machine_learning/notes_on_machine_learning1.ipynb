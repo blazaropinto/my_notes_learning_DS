{
 "cells": [
  {
   "cell_type": "markdown",
   "metadata": {},
   "source": [
    "## ***Machine learning*** \n",
    "\n",
    "Science and art of giving computers the ability to learn to make decisions from data without being explicitly programmed."
   ]
  },
  {
   "cell_type": "markdown",
   "metadata": {},
   "source": [
    "### 1. When there are labels present, we call it ***supervised learning***. \n",
    "    \n",
    "The aim of supervised learning is to build a model that is able to predict the target variable. \n",
    "\n",
    "> feature = predictor variable = independent variable\n",
    "\n",
    "> target variable = dependent variable = response variable\n",
    "            \n",
    "* If the target variable consists of categories, *like 'click' or 'no click', 'spam' or 'not spam', or different species of flowers*, we call the learning ***task classification***. \n",
    "\n",
    "> The goal is to correctly label budget line items by training a model to predict the probability of each possible label by relying on some correctly labeled examples, and taking the most probable label as the correct label.\n",
    "            \n",
    "* If the target is a continuously varying variable, *for example, the price of a house*, it is a ***regression task***.\n",
    "\n",
    "You need labeled data, how to get it?\n",
    "1. historical data, which already has labels that you are interested in\n",
    "2. perform experiments to get labeled data, such as A/B-testing to see how many clicks you get\n",
    "3. crowdsourced labeling data which, like reCAPTCHA does for text recognition\n",
    "\n",
    "Libraries in python:\n",
    "* scikit-learn/sklearn\n",
    "* TensorFlow\n",
    "* keras"
   ]
  },
  {
   "cell_type": "markdown",
   "metadata": {},
   "source": [
    "### 2. When there are no labels present, we call it ***unsupervised learning***.\n",
    "    \n",
    "It consists in uncovering hidden patterns and structures from unlabeled data.\n",
    "            \n",
    "* ***clustering*** is one branch of unsupervised learning:  group data into distinct categories based on their features without knowing in advance what these categories may be."
   ]
  },
  {
   "cell_type": "markdown",
   "metadata": {},
   "source": [
    "### 3. When machines or software agents interact with an environment, it is ***reinforcement learning***. \n",
    "    \n",
    "Reinforcement agents are able to automatically figure out how to optimize their behavior given a system of rewards and punishments. It draws inspiration from behavioral psychology.\n",
    "            \n",
    "* ***Deep learning***"
   ]
  },
  {
   "cell_type": "markdown",
   "metadata": {},
   "source": [
    "## Useful imports in scikit-learn:\n",
    "\n",
    "#### process\n",
    "\n",
    "* `from sklearn.pipeline import Pipeline`\n",
    "\n",
    "#### datasets and data prep:\n",
    "\n",
    "* `from sklearn import datasets`\n",
    "\n",
    "* `from sklearn.model_selection import train_test_split`\n",
    "\n",
    "* `from sklearn.preprocessing import Imputer`\n",
    "\n",
    "* `from sklearn.preprocessing import scale` # the performance of a model can improve greatly if the features are scaled\n",
    "\n",
    "* `from sklearn.preprocessing import StandardScaler`\n",
    "\n",
    "#### Hyperparameter tuning \n",
    "\n",
    "It should be performed on the training set.\n",
    "\n",
    "* `from sklearn.model_selection import GridSearchCV`\n",
    "\n",
    "* `from sklearn.model_selection import RandomizedSearchCV `\n",
    "\n",
    "#### models:\n",
    "\n",
    "##### classification\n",
    "\n",
    "* `from sklearn.neighbors import KNeighborsClassifier` \n",
    "\n",
    "* `from sklearn.linear_model import LogisticRegression`\n",
    "\n",
    "* `from sklearn.tree import DecisionTreeClassifier`\n",
    "\n",
    "* `from sklearn.svm import SVC`\n",
    "\n",
    "##### regression\n",
    "\n",
    "* `from sklearn.linear_model import LinearRegression`\n",
    "\n",
    "* `from sklearn.linear_model import Lasso`\n",
    "\n",
    "* `from sklearn.linear_model import Ridge`\n",
    "\n",
    "* `from sklearn.linear_model import ElasticNet`\n",
    "\n",
    "#### metrics\n",
    "\n",
    "Evaluation should be done on unseen data, the hold-out set.\n",
    "\n",
    "* `from sklearn.metrics import classification_report, confusion_matrix`\n",
    "\n",
    "* `from sklearn.metrics import roc_curve`\n",
    "\n",
    "* `from sklearn.metrics import roc_auc_score`  \n",
    "\n",
    "* `from sklearn.model_selection import cross_val_score` \n",
    "\n",
    "* `from sklearn.metrics import mean_squared_error`\n",
    "\n"
   ]
  }
 ],
 "metadata": {
  "kernelspec": {
   "display_name": "Python 3",
   "language": "python",
   "name": "python3"
  },
  "language_info": {
   "codemirror_mode": {
    "name": "ipython",
    "version": 3
   },
   "file_extension": ".py",
   "mimetype": "text/x-python",
   "name": "python",
   "nbconvert_exporter": "python",
   "pygments_lexer": "ipython3",
   "version": "3.8.5"
  }
 },
 "nbformat": 4,
 "nbformat_minor": 4
}
