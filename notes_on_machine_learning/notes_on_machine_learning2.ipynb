{
 "cells": [
  {
   "cell_type": "markdown",
   "metadata": {},
   "source": [
    "> computers have to take more time processing strings than numbers, which have a precise number of bits. In pandas, there is a special datatype called `category` that encodes our categorical data numerically, and--because of this numerical encoding--it can speed up our code.\n",
    "This is actually converted these strings into a numeric representation of the categories. To see this numeric representation, we can use the `get_dummies` function in pandas. This is also called a **\"binary indicator\"** representation"
   ]
  },
  {
   "cell_type": "markdown",
   "metadata": {},
   "source": [
    "* to see how many numeric coumns a dataframe has we can use `df.info()` or `df.dtypes.value_counts()`\n",
    "\n",
    "> pandas `object` type is the most innefficient, consider that"
   ]
  },
  {
   "cell_type": "markdown",
   "metadata": {},
   "source": [
    "* to convert several columns to `category` dtype to make it more efficient:\n",
    "```\n",
    "# Define the lambda function and list of coulms to transform (LABELS)\n",
    "categorize_label = lambda x: x.astype('category')\n",
    "# Convert df[LABELS] to a categorical type\n",
    "df[LABELS] = df[LABELS].apply(categorize_label, axis=0)\n",
    "# Print the converted dtypes\n",
    "print(df[LABELS].dtypes)\n",
    "```"
   ]
  },
  {
   "cell_type": "markdown",
   "metadata": {},
   "source": [
    "* to visualize number of labels per column\n",
    "\n",
    "```\n",
    "# Import matplotlib.pyplot\n",
    "import matplotlib.pyplot as plt\n",
    "\n",
    "# Calculate number of unique values for each label: num_unique_labels\n",
    "num_unique_labels = df[LABELS].apply(pd.Series.nunique)\n",
    "\n",
    "# Plot number of unique values for each label\n",
    "num_unique_labels.plot(kind='bar')\n",
    "\n",
    "# Label the axes\n",
    "plt.xlabel('Labels')\n",
    "plt.ylabel('Number of unique values')\n",
    "\n",
    "# Display the plot\n",
    "plt.show()\n",
    "```"
   ]
  }
 ],
 "metadata": {
  "kernelspec": {
   "display_name": "Python 3",
   "language": "python",
   "name": "python3"
  },
  "language_info": {
   "codemirror_mode": {
    "name": "ipython",
    "version": 3
   },
   "file_extension": ".py",
   "mimetype": "text/x-python",
   "name": "python",
   "nbconvert_exporter": "python",
   "pygments_lexer": "ipython3",
   "version": "3.8.5"
  }
 },
 "nbformat": 4,
 "nbformat_minor": 4
}
