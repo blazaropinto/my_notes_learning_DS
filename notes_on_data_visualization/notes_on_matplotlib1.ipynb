{
 "cells": [
  {
   "cell_type": "markdown",
   "metadata": {},
   "source": [
    "# Data visualization"
   ]
  },
  {
   "cell_type": "code",
   "execution_count": 20,
   "metadata": {},
   "outputs": [],
   "source": [
    "import matplotlib.pyplot as plt "
   ]
  },
  {
   "cell_type": "markdown",
   "metadata": {},
   "source": [
    "# Basic lineplot"
   ]
  },
  {
   "cell_type": "code",
   "execution_count": 21,
   "metadata": {},
   "outputs": [
    {
     "data": {
      "text/plain": [
       "([<matplotlib.axis.YTick at 0x219d3a74d30>,\n",
       "  <matplotlib.axis.YTick at 0x219d3a748b0>,\n",
       "  <matplotlib.axis.YTick at 0x219d3a34dc0>,\n",
       "  <matplotlib.axis.YTick at 0x219d35a4820>,\n",
       "  <matplotlib.axis.YTick at 0x219d35a4a90>,\n",
       "  <matplotlib.axis.YTick at 0x219d35a4c70>],\n",
       " [Text(0, 0, '0'),\n",
       "  Text(0, 2, '2B'),\n",
       "  Text(0, 4, '4B'),\n",
       "  Text(0, 6, '6B'),\n",
       "  Text(0, 8, '8B'),\n",
       "  Text(0, 10, '10B')])"
      ]
     },
     "execution_count": 21,
     "metadata": {},
     "output_type": "execute_result"
    },
    {
     "data": {
      "image/png": "[encoded data removed]",
      "text/plain": [
       "<Figure size 432x288 with 1 Axes>"
      ]
     },
     "metadata": {
      "needs_background": "light"
     },
     "output_type": "display_data"
    }
   ],
   "source": [
    "a = [50, 51, 72, 93]\n",
    "b = [2.54, 2.57, 3.62, 5.85]\n",
    "\n",
    "plt.plot(a, b) \n",
    "plt.xlabel('a')\n",
    "plt.ylabel('b') \n",
    "plt.title('b vs a') \n",
    "plt.yticks([0, 2, 4, 6, 8, 10], \n",
    "            ['0', '2B', '4B', '6B', '8B', '10B'])\n",
    "plt.show()"
   ]
  },
  {
   "cell_type": "markdown",
   "metadata": {},
   "source": [
    "# Basic scatterplot"
   ]
  },
  {
   "cell_type": "code",
   "execution_count": 11,
   "metadata": {},
   "outputs": [
    {
     "data": {
      "image/png": "[encoded data removed]",
      "text/plain": [
       "<Figure size 432x288 with 1 Axes>"
      ]
     },
     "metadata": {
      "needs_background": "light"
     },
     "output_type": "display_data"
    }
   ],
   "source": [
    "plt.scatter(a,b)\n",
    "plt.xlabel('a')\n",
    "plt.ylabel('b') \n",
    "plt.title('b vs a') \n",
    "plt.yticks([0, 2, 4, 6, 8, 10], \n",
    "            ['0', '2B', '4B', '6B', '8B', '10B'])\n",
    "plt.show()"
   ]
  },
  {
   "cell_type": "markdown",
   "metadata": {},
   "source": [
    "# Basic histogram"
   ]
  },
  {
   "cell_type": "code",
   "execution_count": 12,
   "metadata": {},
   "outputs": [],
   "source": [
    "import numpy as np\n",
    "np.random.seed(1234)\n",
    "c = np.random.rand(20)"
   ]
  },
  {
   "cell_type": "code",
   "execution_count": 13,
   "metadata": {},
   "outputs": [
    {
     "data": {
      "image/png": "[encoded data removed]",
      "text/plain": [
       "<Figure size 432x288 with 1 Axes>"
      ]
     },
     "metadata": {
      "needs_background": "light"
     },
     "output_type": "display_data"
    }
   ],
   "source": [
    "plt.hist(c)\n",
    "plt.show()"
   ]
  },
  {
   "cell_type": "markdown",
   "metadata": {},
   "source": [
    "`plt.figure()` to inicialise a new one ... otherwise they'll overlap"
   ]
  }
 ],
 "metadata": {
  "kernelspec": {
   "display_name": "Python 3",
   "language": "python",
   "name": "python3"
  },
  "language_info": {
   "codemirror_mode": {
    "name": "ipython",
    "version": 3
   },
   "file_extension": ".py",
   "mimetype": "text/x-python",
   "name": "python",
   "nbconvert_exporter": "python",
   "pygments_lexer": "ipython3",
   "version": "3.8.5"
  }
 },
 "nbformat": 4,
 "nbformat_minor": 4
}
