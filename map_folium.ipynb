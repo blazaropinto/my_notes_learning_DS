{
 "cells": [
  {
   "cell_type": "code",
   "execution_count": 1,
   "metadata": {},
   "outputs": [],
   "source": [
    "#imports\n",
    "import pandas as pd\n",
    "import folium\n",
    "import json\n",
    "import requests"
   ]
  },
  {
   "cell_type": "markdown",
   "metadata": {},
   "source": [
    "### Load and prepare the data for the creation of maps"
   ]
  },
  {
   "cell_type": "code",
   "execution_count": 2,
   "metadata": {},
   "outputs": [
    {
     "data": {
      "text/html": [
       "<div>\n",
       "<style scoped>\n",
       "    .dataframe tbody tr th:only-of-type {\n",
       "        vertical-align: middle;\n",
       "    }\n",
       "\n",
       "    .dataframe tbody tr th {\n",
       "        vertical-align: top;\n",
       "    }\n",
       "\n",
       "    .dataframe thead th {\n",
       "        text-align: right;\n",
       "    }\n",
       "</style>\n",
       "<table border=\"1\" class=\"dataframe\">\n",
       "  <thead>\n",
       "    <tr style=\"text-align: right;\">\n",
       "      <th></th>\n",
       "      <th>Short name</th>\n",
       "      <th>Official name</th>\n",
       "      <th>ISO3</th>\n",
       "      <th>ISO2</th>\n",
       "      <th>UNI</th>\n",
       "      <th>UNDP</th>\n",
       "      <th>FAOSTAT</th>\n",
       "      <th>GAUL</th>\n",
       "    </tr>\n",
       "  </thead>\n",
       "  <tbody>\n",
       "    <tr>\n",
       "      <th>0</th>\n",
       "      <td>Afghanistan</td>\n",
       "      <td>the Islamic Republic of Afghanistan</td>\n",
       "      <td>AFG</td>\n",
       "      <td>AF</td>\n",
       "      <td>4</td>\n",
       "      <td>AFG</td>\n",
       "      <td>2</td>\n",
       "      <td>1</td>\n",
       "    </tr>\n",
       "    <tr>\n",
       "      <th>1</th>\n",
       "      <td>Albania</td>\n",
       "      <td>the Republic of Albania</td>\n",
       "      <td>ALB</td>\n",
       "      <td>AL</td>\n",
       "      <td>8</td>\n",
       "      <td>ALB</td>\n",
       "      <td>3</td>\n",
       "      <td>3</td>\n",
       "    </tr>\n",
       "    <tr>\n",
       "      <th>2</th>\n",
       "      <td>Algeria</td>\n",
       "      <td>the People's Democratic Republic of Algeria</td>\n",
       "      <td>DZA</td>\n",
       "      <td>DZ</td>\n",
       "      <td>12</td>\n",
       "      <td>DZA</td>\n",
       "      <td>4</td>\n",
       "      <td>4</td>\n",
       "    </tr>\n",
       "  </tbody>\n",
       "</table>\n",
       "</div>"
      ],
      "text/plain": [
       "    Short name                                Official name ISO3 ISO2  UNI  \\\n",
       "0  Afghanistan          the Islamic Republic of Afghanistan  AFG   AF    4   \n",
       "1      Albania                      the Republic of Albania  ALB   AL    8   \n",
       "2      Algeria  the People's Democratic Republic of Algeria  DZA   DZ   12   \n",
       "\n",
       "  UNDP  FAOSTAT  GAUL  \n",
       "0  AFG        2     1  \n",
       "1  ALB        3     3  \n",
       "2  DZA        4     4  "
      ]
     },
     "execution_count": 2,
     "metadata": {},
     "output_type": "execute_result"
    }
   ],
   "source": [
    "# get table with the code names for the countries in FAOSTATS\n",
    "url = 'http://www.fao.org/countryprofiles/iso3list/en/'\n",
    "html = requests.get(url).content\n",
    "countries_codes = pd.read_html(html)[0]\n",
    "type(countries_codes)\n",
    "countries_codes.to_csv('datasets/original/countries_codes.csv')\n",
    "countries_codes.head(3)"
   ]
  },
  {
   "cell_type": "code",
   "execution_count": 3,
   "metadata": {},
   "outputs": [
    {
     "data": {
      "text/html": [
       "<div>\n",
       "<style scoped>\n",
       "    .dataframe tbody tr th:only-of-type {\n",
       "        vertical-align: middle;\n",
       "    }\n",
       "\n",
       "    .dataframe tbody tr th {\n",
       "        vertical-align: top;\n",
       "    }\n",
       "\n",
       "    .dataframe thead th {\n",
       "        text-align: right;\n",
       "    }\n",
       "</style>\n",
       "<table border=\"1\" class=\"dataframe\">\n",
       "  <thead>\n",
       "    <tr style=\"text-align: right;\">\n",
       "      <th></th>\n",
       "      <th>Area</th>\n",
       "      <th>Item</th>\n",
       "      <th>1961</th>\n",
       "      <th>1962</th>\n",
       "      <th>1963</th>\n",
       "      <th>1964</th>\n",
       "      <th>1965</th>\n",
       "      <th>1966</th>\n",
       "      <th>1967</th>\n",
       "      <th>1968</th>\n",
       "      <th>...</th>\n",
       "      <th>2012</th>\n",
       "      <th>2013</th>\n",
       "      <th>2014</th>\n",
       "      <th>2015</th>\n",
       "      <th>2016</th>\n",
       "      <th>2017</th>\n",
       "      <th>2018</th>\n",
       "      <th>2019</th>\n",
       "      <th>yearly_average_1961-2019</th>\n",
       "      <th>std_1961-2019</th>\n",
       "    </tr>\n",
       "  </thead>\n",
       "  <tbody>\n",
       "    <tr>\n",
       "      <th>2</th>\n",
       "      <td>Afghanistan</td>\n",
       "      <td>Almonds, with shell</td>\n",
       "      <td>NaN</td>\n",
       "      <td>NaN</td>\n",
       "      <td>NaN</td>\n",
       "      <td>NaN</td>\n",
       "      <td>NaN</td>\n",
       "      <td>NaN</td>\n",
       "      <td>NaN</td>\n",
       "      <td>NaN</td>\n",
       "      <td>...</td>\n",
       "      <td>62000.0</td>\n",
       "      <td>42215.0</td>\n",
       "      <td>27400.0</td>\n",
       "      <td>24246.0</td>\n",
       "      <td>32843.0</td>\n",
       "      <td>27291.0</td>\n",
       "      <td>34413.0</td>\n",
       "      <td>38205.0</td>\n",
       "      <td>18990.933333</td>\n",
       "      <td>15382.579516</td>\n",
       "    </tr>\n",
       "    <tr>\n",
       "      <th>5</th>\n",
       "      <td>Afghanistan</td>\n",
       "      <td>Anise, badian, fennel, coriander</td>\n",
       "      <td>NaN</td>\n",
       "      <td>NaN</td>\n",
       "      <td>NaN</td>\n",
       "      <td>NaN</td>\n",
       "      <td>NaN</td>\n",
       "      <td>NaN</td>\n",
       "      <td>NaN</td>\n",
       "      <td>NaN</td>\n",
       "      <td>...</td>\n",
       "      <td>12500.0</td>\n",
       "      <td>12500.0</td>\n",
       "      <td>21500.0</td>\n",
       "      <td>18000.0</td>\n",
       "      <td>18005.0</td>\n",
       "      <td>19490.0</td>\n",
       "      <td>18436.0</td>\n",
       "      <td>19025.0</td>\n",
       "      <td>7933.705882</td>\n",
       "      <td>6920.749305</td>\n",
       "    </tr>\n",
       "    <tr>\n",
       "      <th>8</th>\n",
       "      <td>Afghanistan</td>\n",
       "      <td>Apples</td>\n",
       "      <td>15100.0</td>\n",
       "      <td>15100.0</td>\n",
       "      <td>15100.0</td>\n",
       "      <td>18400.0</td>\n",
       "      <td>20400.0</td>\n",
       "      <td>22800.0</td>\n",
       "      <td>27600.0</td>\n",
       "      <td>27900.0</td>\n",
       "      <td>...</td>\n",
       "      <td>70000.0</td>\n",
       "      <td>78597.0</td>\n",
       "      <td>89403.0</td>\n",
       "      <td>89733.0</td>\n",
       "      <td>140903.0</td>\n",
       "      <td>175000.0</td>\n",
       "      <td>217192.0</td>\n",
       "      <td>250324.0</td>\n",
       "      <td>42550.508475</td>\n",
       "      <td>47077.857625</td>\n",
       "    </tr>\n",
       "    <tr>\n",
       "      <th>11</th>\n",
       "      <td>Afghanistan</td>\n",
       "      <td>Apricots</td>\n",
       "      <td>32000.0</td>\n",
       "      <td>32000.0</td>\n",
       "      <td>32000.0</td>\n",
       "      <td>39200.0</td>\n",
       "      <td>43400.0</td>\n",
       "      <td>48400.0</td>\n",
       "      <td>58700.0</td>\n",
       "      <td>59400.0</td>\n",
       "      <td>...</td>\n",
       "      <td>83500.0</td>\n",
       "      <td>90000.0</td>\n",
       "      <td>90000.0</td>\n",
       "      <td>87686.0</td>\n",
       "      <td>17894.0</td>\n",
       "      <td>131816.0</td>\n",
       "      <td>109086.0</td>\n",
       "      <td>129363.0</td>\n",
       "      <td>52387.457627</td>\n",
       "      <td>22188.061657</td>\n",
       "    </tr>\n",
       "    <tr>\n",
       "      <th>14</th>\n",
       "      <td>Afghanistan</td>\n",
       "      <td>Barley</td>\n",
       "      <td>378000.0</td>\n",
       "      <td>378000.0</td>\n",
       "      <td>378000.0</td>\n",
       "      <td>380000.0</td>\n",
       "      <td>380000.0</td>\n",
       "      <td>375000.0</td>\n",
       "      <td>357000.0</td>\n",
       "      <td>361000.0</td>\n",
       "      <td>...</td>\n",
       "      <td>504000.0</td>\n",
       "      <td>514000.0</td>\n",
       "      <td>521000.0</td>\n",
       "      <td>403000.0</td>\n",
       "      <td>301856.0</td>\n",
       "      <td>94995.0</td>\n",
       "      <td>56781.0</td>\n",
       "      <td>123576.0</td>\n",
       "      <td>303493.355932</td>\n",
       "      <td>103313.817707</td>\n",
       "    </tr>\n",
       "  </tbody>\n",
       "</table>\n",
       "<p>5 rows × 63 columns</p>\n",
       "</div>"
      ],
      "text/plain": [
       "           Area                              Item      1961      1962  \\\n",
       "2   Afghanistan               Almonds, with shell       NaN       NaN   \n",
       "5   Afghanistan  Anise, badian, fennel, coriander       NaN       NaN   \n",
       "8   Afghanistan                            Apples   15100.0   15100.0   \n",
       "11  Afghanistan                          Apricots   32000.0   32000.0   \n",
       "14  Afghanistan                            Barley  378000.0  378000.0   \n",
       "\n",
       "        1963      1964      1965      1966      1967      1968  ...      2012  \\\n",
       "2        NaN       NaN       NaN       NaN       NaN       NaN  ...   62000.0   \n",
       "5        NaN       NaN       NaN       NaN       NaN       NaN  ...   12500.0   \n",
       "8    15100.0   18400.0   20400.0   22800.0   27600.0   27900.0  ...   70000.0   \n",
       "11   32000.0   39200.0   43400.0   48400.0   58700.0   59400.0  ...   83500.0   \n",
       "14  378000.0  380000.0  380000.0  375000.0  357000.0  361000.0  ...  504000.0   \n",
       "\n",
       "        2013      2014      2015      2016      2017      2018      2019  \\\n",
       "2    42215.0   27400.0   24246.0   32843.0   27291.0   34413.0   38205.0   \n",
       "5    12500.0   21500.0   18000.0   18005.0   19490.0   18436.0   19025.0   \n",
       "8    78597.0   89403.0   89733.0  140903.0  175000.0  217192.0  250324.0   \n",
       "11   90000.0   90000.0   87686.0   17894.0  131816.0  109086.0  129363.0   \n",
       "14  514000.0  521000.0  403000.0  301856.0   94995.0   56781.0  123576.0   \n",
       "\n",
       "    yearly_average_1961-2019  std_1961-2019  \n",
       "2               18990.933333   15382.579516  \n",
       "5                7933.705882    6920.749305  \n",
       "8               42550.508475   47077.857625  \n",
       "11              52387.457627   22188.061657  \n",
       "14             303493.355932  103313.817707  \n",
       "\n",
       "[5 rows x 63 columns]"
      ]
     },
     "execution_count": 3,
     "metadata": {},
     "output_type": "execute_result"
    }
   ],
   "source": [
    "#load dataset for crop production worldwide\n",
    "prod = pd.read_csv('datasets/clean/production.csv', index_col=0)\n",
    "prod.head()"
   ]
  },
  {
   "cell_type": "code",
   "execution_count": 4,
   "metadata": {
    "scrolled": true
   },
   "outputs": [
    {
     "data": {
      "text/plain": [
       "Index(['1995', '1996', '1997', '1998', '1999', '2000', '2001', '2002', '2003',\n",
       "       '2004', '2005', '2006', '2007', '2008', '2009', '2010', '2011', '2012',\n",
       "       '2013', '2014', '2015', '2016', '2017', '2018', '2019'],\n",
       "      dtype='object')"
      ]
     },
     "metadata": {},
     "output_type": "display_data"
    },
    {
     "data": {
      "text/html": [
       "<div>\n",
       "<style scoped>\n",
       "    .dataframe tbody tr th:only-of-type {\n",
       "        vertical-align: middle;\n",
       "    }\n",
       "\n",
       "    .dataframe tbody tr th {\n",
       "        vertical-align: top;\n",
       "    }\n",
       "\n",
       "    .dataframe thead th {\n",
       "        text-align: right;\n",
       "    }\n",
       "</style>\n",
       "<table border=\"1\" class=\"dataframe\">\n",
       "  <thead>\n",
       "    <tr style=\"text-align: right;\">\n",
       "      <th></th>\n",
       "      <th>Area</th>\n",
       "      <th>Item</th>\n",
       "      <th>yearly_prod_mean_1994_2019</th>\n",
       "    </tr>\n",
       "  </thead>\n",
       "  <tbody>\n",
       "    <tr>\n",
       "      <th>0</th>\n",
       "      <td>Afghanistan</td>\n",
       "      <td>Almonds, with shell</td>\n",
       "      <td>26879.68</td>\n",
       "    </tr>\n",
       "    <tr>\n",
       "      <th>1</th>\n",
       "      <td>Afghanistan</td>\n",
       "      <td>Anise, badian, fennel, coriander</td>\n",
       "      <td>10456.72</td>\n",
       "    </tr>\n",
       "    <tr>\n",
       "      <th>2</th>\n",
       "      <td>Afghanistan</td>\n",
       "      <td>Apples</td>\n",
       "      <td>71744.24</td>\n",
       "    </tr>\n",
       "  </tbody>\n",
       "</table>\n",
       "</div>"
      ],
      "text/plain": [
       "          Area                              Item  yearly_prod_mean_1994_2019\n",
       "0  Afghanistan               Almonds, with shell                    26879.68\n",
       "1  Afghanistan  Anise, badian, fennel, coriander                    10456.72\n",
       "2  Afghanistan                            Apples                    71744.24"
      ]
     },
     "execution_count": 4,
     "metadata": {},
     "output_type": "execute_result"
    }
   ],
   "source": [
    "#calculate yearly production per country using the years 1994-2019 for the average\n",
    "# drop pertinent columns to do the calculation\n",
    "columns_to_drop1 = [str(year) for year in range(1961, 1995)]\n",
    "columns_to_drop2 = ['yearly_average_1961-2019','std_1961-2019']\n",
    "prod_1994_2019 = prod.drop(columns=columns_to_drop1).drop(columns=columns_to_drop2)\n",
    "columns_to_keep = ['Area', 'Item']\n",
    "prod_1994_2019_multiindex = prod_1994_2019.set_index(columns_to_keep)\n",
    "display(prod_1994_2019_multiindex.columns)\n",
    "prod_1994_2019_multiindex['yearly_prod_mean_1994_2019'] = prod_1994_2019_multiindex.mean(axis=1)\n",
    "# drop rest of original columns\n",
    "columns_to_drop3 = [str(year) for year in range(1995, 2020)]\n",
    "prod_1994_2019 = prod_1994_2019_multiindex.drop(columns=columns_to_drop3).round(3).reset_index(columns_to_keep)\n",
    "prod_1994_2019.head(3)"
   ]
  },
  {
   "cell_type": "code",
   "execution_count": 5,
   "metadata": {},
   "outputs": [],
   "source": [
    "# List with fruits to create a layer on the map - try with few to avoid getting a \n",
    "# file with a very latge size\n",
    "fruits = ['Apples', 'Bananas', 'Oranges']"
   ]
  },
  {
   "cell_type": "code",
   "execution_count": 6,
   "metadata": {
    "scrolled": true
   },
   "outputs": [
    {
     "data": {
      "text/plain": [
       "[0.25     24399.00\n",
       " 0.50    120534.88\n",
       " 0.75    496280.56\n",
       " Name: yearly_prod_mean_1994_2019, dtype: float64,\n",
       " 0.25       830.14\n",
       " 0.50     33621.00\n",
       " 0.75    309095.35\n",
<<<<<<< HEAD
=======
       " Name: yearly_prod_mean_1994_2019, dtype: float64,\n",
       " 0.25      1091.3655\n",
       " 0.50     34483.6400\n",
       " 0.75    177339.0800\n",
>>>>>>> 3b821a05094a86e85c12e1d34f1af5c0a988a96a
       " Name: yearly_prod_mean_1994_2019, dtype: float64]"
      ]
     },
     "metadata": {},
     "output_type": "display_data"
    },
    {
     "data": {
      "text/plain": [
       "[      yearly_prod_mean_1994_2019\n",
       " ISO3                            \n",
       " AFG                     71744.24\n",
       " ALB                     45994.80\n",
       " DZA                    271329.32\n",
       " ARG                    961304.68\n",
       " ARM                     80113.40\n",
       " ...                          ...\n",
       " USA                   4599156.36\n",
       " URY                     56958.68\n",
       " UZB                    650988.72\n",
       " YEM                     12566.84\n",
       " ZWE                      6606.44\n",
       " \n",
       " [93 rows x 1 columns],\n",
       "       yearly_prod_mean_1994_2019\n",
       " ISO3                            \n",
       " DZA                       418.85\n",
       " AGO                   1789407.08\n",
       " ATG                       217.28\n",
       " ARG                    172855.36\n",
       " AUS                    269945.36\n",
       " ...                          ...\n",
       " VEN                    610288.40\n",
       " VNM                   1542135.68\n",
       " YEM                    107226.24\n",
       " ZMB                       690.12\n",
       " ZWE                    114380.28\n",
       " \n",
<<<<<<< HEAD
       " [136 rows x 1 columns]]"
=======
       " [136 rows x 1 columns],\n",
       "       yearly_prod_mean_1994_2019\n",
       " ISO3                            \n",
       " AFG                      7961.80\n",
       " ALB                      5685.88\n",
       " DZA                    596439.44\n",
       " ARG                    887629.12\n",
       " AUS                    431148.28\n",
       " ...                          ...\n",
       " VEN                    419980.24\n",
       " VNM                    573100.52\n",
       " YEM                    117023.68\n",
       " ZMB                      3676.76\n",
       " ZWE                     88816.20\n",
       " \n",
       " [131 rows x 1 columns]]"
>>>>>>> 3b821a05094a86e85c12e1d34f1af5c0a988a96a
      ]
     },
     "metadata": {},
     "output_type": "display_data"
    }
   ],
   "source": [
    "#inizialize lists for prepared dfs for each fruit and percentile to change style on map\n",
    "fruit_dfs =[]\n",
    "fruit_quarts=[]\n",
    "#loop over fruits to prep the data\n",
    "for fruit in fruits:\n",
    "    fruitdf = prod_1994_2019[prod_1994_2019.Item == fruit].drop('Item', axis=1)\n",
    "    tempdf = pd.merge(fruitdf, countries_codes, left_on='Area', right_on='Short name')\n",
    "    tempdf = tempdf[['ISO3', 'yearly_prod_mean_1994_2019']].set_index('ISO3').dropna().round(3)\n",
    "    fruit_dfs.append(tempdf)\n",
    "    tempquart = tempdf.yearly_prod_mean_1994_2019.quantile([0.25, 0.5,  0.75])\n",
    "    fruit_quarts.append(tempquart)\n",
    "display(fruit_quarts, fruit_dfs)"
   ]
  },
  {
   "cell_type": "code",
   "execution_count": 7,
   "metadata": {
    "scrolled": true
   },
   "outputs": [
    {
     "data": {
      "text/plain": [
       "255"
      ]
     },
     "metadata": {},
     "output_type": "display_data"
    },
    {
     "data": {
      "text/plain": [
       "dict"
      ]
     },
     "metadata": {},
     "output_type": "display_data"
    }
   ],
   "source": [
    "#open geojson file with country poligons as dict\n",
    "with open ('datasets/original/countries.geojson', 'r') as file:\n",
    "    geocountries = json.load(file)\n",
    "display(len(geocountries['features']), type(geocountries))"
   ]
  },
  {
   "cell_type": "code",
   "execution_count": 8,
   "metadata": {},
   "outputs": [
    {
     "data": {
      "text/html": [
       "<div>\n",
       "<style scoped>\n",
       "    .dataframe tbody tr th:only-of-type {\n",
       "        vertical-align: middle;\n",
       "    }\n",
       "\n",
       "    .dataframe tbody tr th {\n",
       "        vertical-align: top;\n",
       "    }\n",
       "\n",
       "    .dataframe thead th {\n",
       "        text-align: right;\n",
       "    }\n",
       "</style>\n",
       "<table border=\"1\" class=\"dataframe\">\n",
       "  <thead>\n",
       "    <tr style=\"text-align: right;\">\n",
       "      <th></th>\n",
       "      <th>city</th>\n",
       "      <th>city_ascii</th>\n",
       "      <th>lat</th>\n",
       "      <th>lng</th>\n",
       "      <th>country</th>\n",
       "      <th>iso3</th>\n",
       "      <th>capital</th>\n",
       "      <th>population</th>\n",
       "    </tr>\n",
       "  </thead>\n",
       "  <tbody>\n",
       "    <tr>\n",
       "      <th>0</th>\n",
       "      <td>Tokyo</td>\n",
       "      <td>Tokyo</td>\n",
       "      <td>35.6897</td>\n",
       "      <td>139.6922</td>\n",
       "      <td>Japan</td>\n",
       "      <td>JPN</td>\n",
       "      <td>primary</td>\n",
       "      <td>37977000.0</td>\n",
       "    </tr>\n",
       "    <tr>\n",
       "      <th>1</th>\n",
       "      <td>Jakarta</td>\n",
       "      <td>Jakarta</td>\n",
       "      <td>-6.2146</td>\n",
       "      <td>106.8451</td>\n",
       "      <td>Indonesia</td>\n",
       "      <td>IDN</td>\n",
       "      <td>primary</td>\n",
       "      <td>34540000.0</td>\n",
       "    </tr>\n",
       "    <tr>\n",
       "      <th>4</th>\n",
       "      <td>Manila</td>\n",
       "      <td>Manila</td>\n",
       "      <td>14.5958</td>\n",
       "      <td>120.9772</td>\n",
       "      <td>Philippines</td>\n",
       "      <td>PHL</td>\n",
       "      <td>primary</td>\n",
       "      <td>23088000.0</td>\n",
       "    </tr>\n",
       "    <tr>\n",
       "      <th>7</th>\n",
       "      <td>Seoul</td>\n",
       "      <td>Seoul</td>\n",
       "      <td>37.5833</td>\n",
       "      <td>127.0000</td>\n",
       "      <td>Korea, South</td>\n",
       "      <td>KOR</td>\n",
       "      <td>primary</td>\n",
       "      <td>21794000.0</td>\n",
       "    </tr>\n",
       "    <tr>\n",
       "      <th>8</th>\n",
       "      <td>Mexico City</td>\n",
       "      <td>Mexico City</td>\n",
       "      <td>19.4333</td>\n",
       "      <td>-99.1333</td>\n",
       "      <td>Mexico</td>\n",
       "      <td>MEX</td>\n",
       "      <td>primary</td>\n",
       "      <td>20996000.0</td>\n",
       "    </tr>\n",
       "  </tbody>\n",
       "</table>\n",
       "</div>"
      ],
      "text/plain": [
       "          city   city_ascii      lat       lng       country iso3  capital  \\\n",
       "0        Tokyo        Tokyo  35.6897  139.6922         Japan  JPN  primary   \n",
       "1      Jakarta      Jakarta  -6.2146  106.8451     Indonesia  IDN  primary   \n",
       "4       Manila       Manila  14.5958  120.9772   Philippines  PHL  primary   \n",
       "7        Seoul        Seoul  37.5833  127.0000  Korea, South  KOR  primary   \n",
       "8  Mexico City  Mexico City  19.4333  -99.1333        Mexico  MEX  primary   \n",
       "\n",
       "   population  \n",
       "0  37977000.0  \n",
       "1  34540000.0  \n",
       "4  23088000.0  \n",
       "7  21794000.0  \n",
       "8  20996000.0  "
      ]
     },
     "metadata": {},
     "output_type": "display_data"
    },
    {
     "data": {
      "text/plain": [
       "(208, 8)"
      ]
     },
     "metadata": {},
     "output_type": "display_data"
    }
   ],
   "source": [
    "#load dataset \n",
    "cities = pd.read_csv('datasets/original/worldcities.csv', usecols=['city', 'city_ascii', 'lat', 'lng', \n",
    "                                                 'country', 'iso3', 'population', 'capital'])\n",
    "worldcities = cities[(cities.capital == 'primary')]\n",
    "display(worldcities.head(), worldcities.shape)"
   ]
  },
  {
   "cell_type": "markdown",
   "metadata": {},
   "source": [
    "### Create map and layers"
   ]
  },
  {
   "cell_type": "code",
   "execution_count": 9,
   "metadata": {},
   "outputs": [],
   "source": [
    "#create a map object centered in ...\n",
    "worldmap = folium.Map(location=[30,-12], zoom_start=2, tiles='OpenStreetMap') # tiles is the style (see doc)"
   ]
  },
  {
   "cell_type": "code",
   "execution_count": 10,
   "metadata": {},
   "outputs": [],
   "source": [
    "# create funtion to define color for marker for each city\n",
    "def iconpop(pop):\n",
    "    if pop > 5000000:\n",
    "        color='purple'\n",
    "    elif pop >2500000:\n",
    "        color='orange'\n",
    "    else:\n",
    "        color='green'\n",
    "    return color"
   ]
  },
  {
   "cell_type": "code",
   "execution_count": 11,
   "metadata": {},
   "outputs": [],
   "source": [
    "# create html for popup for each city\n",
    "\n",
    "html = \"\"\"\n",
    "<h4> {}\n",
    "</h4> {}\n",
    "\"\"\""
   ]
  },
  {
   "cell_type": "code",
   "execution_count": 12,
   "metadata": {},
   "outputs": [
    {
     "data": {
      "text/plain": [
       "{0: <function __main__.namefunc(x, i=0)>,\n",
<<<<<<< HEAD
       " 1: <function __main__.namefunc(x, i=1)>}"
=======
       " 1: <function __main__.namefunc(x, i=1)>,\n",
       " 2: <function __main__.namefunc(x, i=2)>}"
>>>>>>> 3b821a05094a86e85c12e1d34f1af5c0a988a96a
      ]
     },
     "execution_count": 12,
     "metadata": {},
     "output_type": "execute_result"
    }
   ],
   "source": [
    "# create functions to colour countries with fruit production value for each fruit\n",
    "sf = {}\n",
    "for i in range(0,len(fruits)):\n",
    "    def namefunc(x, i=i): # that way each function in the loop will have a different default i value\n",
    "        country = x['properties']['ISO_A3']\n",
    "        try:\n",
    "            if fruit_dfs[i].loc[country, 'yearly_prod_mean_1994_2019'] > fruit_quarts[i].loc[0.75]:\n",
    "                color = '#4A235A'\n",
    "            elif fruit_dfs[i].loc[country, 'yearly_prod_mean_1994_2019'] > fruit_quarts[i].loc[0.50]:\n",
    "                color = '#A569BD'\n",
    "            elif fruit_dfs[i].loc[country, 'yearly_prod_mean_1994_2019'] > fruit_quarts[i].loc[0.25]:\n",
    "                color = '#D7BDE2'\n",
    "            else:\n",
    "                color = '#FBFCFC'\n",
    "        except:\n",
    "            color = None\n",
    "        return {'color':'grey', 'fillOpacity':0.5, 'opacity': 0.2, 'weight':1, 'fillColor': color}\n",
    "    sf[i] = namefunc\n",
    "sf\n",
    "    "
   ]
  },
  {
   "cell_type": "code",
   "execution_count": 13,
   "metadata": {
    "scrolled": false
   },
   "outputs": [],
   "source": [
    "# make layer for big cities\n",
    "fgc = folium.FeatureGroup(name='Cities')\n",
    "\n",
    "\n",
    "for i, row in worldcities.iterrows():\n",
    "    iframe = folium.IFrame(html=html.format(str(row[0]),str(row[4])), width=180, height=80)\n",
    "    if row[7] > 2500000:\n",
    "        fgc.add_child(folium.Marker(location=[row[2],row[3]], \n",
    "                                   popup=folium.Popup(iframe), icon=folium.Icon(color=iconpop(row[7]))))\n",
    "    elif row[7] > 1000000:\n",
    "        fgc.add_child(folium.CircleMarker(location=[row[2],row[3]], \n",
    "                                         radius = 6, popup=folium.Popup(iframe), color=iconpop(row[7]), fill=True,\n",
    "                                         fill_color=iconpop(row[7]), fill_opacity=0.6))\n",
    "\n"
   ]
  },
  {
   "cell_type": "code",
   "execution_count": 14,
   "metadata": {},
   "outputs": [],
   "source": [
    "# create layers for fruit production\n",
    "                   \n",
    "for i in range(0,len(fruits)):\n",
    "    worldmap.add_child(folium.GeoJson(data=geocountries, smooth_factor=0.75, show=False,\n",
    "                                      name= 'Production of {} per year  (tonnes)'.format(fruits[i].lower()),\n",
    "                                      style_function=sf[i]))\n",
    "\n"
   ]
  },
  {
   "cell_type": "code",
   "execution_count": 15,
   "metadata": {},
   "outputs": [],
   "source": [
    "worldmap.add_child(fgc)\n",
    "#create controls for layers\n",
    "worldmap.add_child(folium.LayerControl())\n",
    "\n",
    "#save it\n",
<<<<<<< HEAD
    "worldmap.save('private_folder/example_worldmap.html')"
=======
    "worldmap.save('example_worldmap.html')"
>>>>>>> 3b821a05094a86e85c12e1d34f1af5c0a988a96a
   ]
  }
 ],
 "metadata": {
  "kernelspec": {
   "display_name": "Python 3",
   "language": "python",
   "name": "python3"
  },
  "language_info": {
   "codemirror_mode": {
    "name": "ipython",
    "version": 3
   },
   "file_extension": ".py",
   "mimetype": "text/x-python",
   "name": "python",
   "nbconvert_exporter": "python",
   "pygments_lexer": "ipython3",
   "version": "3.8.5"
  }
 },
 "nbformat": 4,
 "nbformat_minor": 4
}
