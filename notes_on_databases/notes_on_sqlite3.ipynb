{
 "cells": [
  {
   "cell_type": "code",
   "execution_count": 2,
   "metadata": {},
   "outputs": [],
   "source": [
    "#module in python\n",
    "import sqlite3"
   ]
  },
  {
   "cell_type": "code",
   "execution_count": 3,
   "metadata": {},
   "outputs": [],
   "source": [
    "# create a funtion to create a table\n",
    "# if the db dosen't exist it will be created on the current folder \n",
    "def create_table(tablename):\n",
    "    con = sqlite3.connect('mydatabase.db')\n",
    "    cur = con.cursor()\n",
    "    cur.execute('CREATE TABLE IF NOT EXISTS {} (col1 TEXT, col2 INTEGER, col3 REAL)'.format(tablename))\n",
    "    con.commit()\n",
    "    con.close()"
   ]
  },
  {
   "cell_type": "code",
   "execution_count": 10,
   "metadata": {},
   "outputs": [],
   "source": [
    "#create a function to insert data into the table\n",
    "def insert_record(tablename, records):\n",
    "    '''\n",
    "    tablename: as a string\n",
    "    records: \n",
    "        -for one record: a tuple with the data in order \n",
    "        -for several records: list of tuples, with each tuple one record\n",
    "    '''\n",
    "    con = sqlite3.connect('mydatabase.db')\n",
    "    cur = con.cursor()\n",
    "    if type(records) == tuple:\n",
    "        cur.execute(\"INSERT INTO {} VALUES(?,?,?)\".format(str(tablename)),(records))\n",
    "    else:\n",
    "        cur.executemany(\"INSERT INTO {} VALUES(?,?,?)\".format(str(tablename)),(records))\n",
    "        # the second arg of execute has to be a tuple, so if there is a unique value, add a coma at the end \n",
    "        # in this case records is a tuple or a list of tuples\n",
    "    con.commit()\n",
    "    con.close()"
   ]
  },
  {
   "cell_type": "code",
   "execution_count": 14,
   "metadata": {},
   "outputs": [],
   "source": [
    "#create a function to delete data from the table\n",
    "def delete_record(tablename, colname, data):\n",
    "    con = sqlite3.connect('mydatabase.db')\n",
    "    cur = con.cursor()\n",
    "    cur.execute(\"DELETE FROM {} WHERE {}=?\".format(str(tablename), str(colname)),(data,))\n",
    "    con.commit()\n",
    "    con.close()"
   ]
  },
  {
   "cell_type": "code",
   "execution_count": 15,
   "metadata": {},
   "outputs": [],
   "source": [
    "#create a function to update data from the table\n",
    "def update_record(tablename, colname, update, dcol1):\n",
    "    con = sqlite3.connect('mydatabase.db')\n",
    "    cur = con.cursor()\n",
    "    cur.execute(\"UPDATE {} SET {}=? WHERE col1=?\".format(tablename, colname),(update, dcol1))\n",
    "    con.commit()\n",
    "    con.close()"
   ]
  },
  {
   "cell_type": "code",
   "execution_count": 7,
   "metadata": {},
   "outputs": [],
   "source": [
    "#create function to viex table\n",
    "def view_table(tablename):\n",
    "    con = sqlite3.connect('mydatabase.db')\n",
    "    cur = con.cursor()\n",
    "    cur.execute('SELECT * FROM {}'.format(tablename))\n",
    "    info = cur.fetchall()\n",
    "    con.close()\n",
    "    return info"
   ]
  },
  {
   "cell_type": "code",
   "execution_count": 8,
   "metadata": {},
   "outputs": [],
   "source": [
    "create_table('table1')"
   ]
  },
  {
   "cell_type": "code",
   "execution_count": 11,
   "metadata": {},
   "outputs": [],
   "source": [
    "insert_record('table1',('tree', 1, 15))"
   ]
  },
  {
   "cell_type": "code",
   "execution_count": 12,
   "metadata": {},
   "outputs": [],
   "source": [
    "insert_record('table1',[('branch', 21, 1577),('bush', 23, 333),('flower', 55, 66)])"
   ]
  },
  {
   "cell_type": "code",
   "execution_count": 13,
   "metadata": {},
   "outputs": [
    {
     "data": {
      "text/plain": [
       "[('tree', 1, 15.0),\n",
       " ('branch', 21, 1577.0),\n",
       " ('bush', 23, 333.0),\n",
       " ('flower', 55, 66.0)]"
      ]
     },
     "execution_count": 13,
     "metadata": {},
     "output_type": "execute_result"
    }
   ],
   "source": [
    "view_table('table1')"
   ]
  },
  {
   "cell_type": "code",
   "execution_count": 18,
   "metadata": {},
   "outputs": [],
   "source": [
    "delete_record('table1', 'col1', 'flower')"
   ]
  },
  {
   "cell_type": "code",
   "execution_count": 19,
   "metadata": {},
   "outputs": [],
   "source": [
    "update_record('table1', 'col2', 5, 'tree')"
   ]
  },
  {
   "cell_type": "code",
   "execution_count": 20,
   "metadata": {},
   "outputs": [
    {
     "data": {
      "text/plain": [
       "[('tree', 5, 15.0), ('branch', 21, 1577.0), ('bush', 23, 333.0)]"
      ]
     },
     "execution_count": 20,
     "metadata": {},
     "output_type": "execute_result"
    }
   ],
   "source": [
    "view_table('table1')"
   ]
  }
 ],
 "metadata": {
  "kernelspec": {
   "display_name": "Python 3",
   "language": "python",
   "name": "python3"
  },
  "language_info": {
   "codemirror_mode": {
    "name": "ipython",
    "version": 3
   },
   "file_extension": ".py",
   "mimetype": "text/x-python",
   "name": "python",
   "nbconvert_exporter": "python",
   "pygments_lexer": "ipython3",
   "version": "3.8.5"
  }
 },
 "nbformat": 4,
 "nbformat_minor": 4
}
