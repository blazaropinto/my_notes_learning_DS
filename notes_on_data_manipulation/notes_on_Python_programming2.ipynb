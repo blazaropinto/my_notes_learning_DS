{
 "cells": [
  {
   "cell_type": "markdown",
   "metadata": {},
   "source": [
    "## Container sequences \n",
    "\n",
    "### Mutable\n",
    "\n",
    "#### Lists\n",
    "Hold data in order it was added\n",
    "Mutable\n",
    "Index\n",
    "\n",
    "#### Set\n",
    "Unique\n",
    "Unordered\n",
    "Mutable\n",
    "Python's implementation of Set Theory from Mathematics\n",
    "\n",
    "#### dictionaries\n",
    "Hold data in key/value pairs\n",
    "Nestable (use a dictionary as the value of a key within a\n",
    "dictionary)\n",
    "Iterable\n",
    "Created by dict() or {}\n",
    "\n",
    "> If you ask for a key that does not exist that will stop your program from running in a `KeyError`\n",
    "\n",
    "### Immutable\n",
    "\n",
    "#### Tuple\n",
    "Hold data in order\n",
    "Index\n",
    "Immutable\n",
    "Pairing\n",
    "Unpackable"
   ]
  },
  {
   "cell_type": "code",
   "execution_count": 18,
   "metadata": {},
   "outputs": [
    {
     "data": {
      "text/plain": [
       "['a', 'b', 'c', 'd', 'e']"
      ]
     },
     "metadata": {},
     "output_type": "display_data"
    },
    {
     "data": {
      "text/plain": [
       "['f', 'g', 'h', 'i', 'j']"
      ]
     },
     "metadata": {},
     "output_type": "display_data"
    }
   ],
   "source": [
    "# list\n",
    "mylist = list('abcde')\n",
    "herlist = list('fghij')\n",
    "display(mylist, herlist)"
   ]
  },
  {
   "cell_type": "code",
   "execution_count": 19,
   "metadata": {},
   "outputs": [
    {
     "data": {
      "text/plain": [
       "['a', 'b', 'c', 'd', 'e', 'hello']"
      ]
     },
     "metadata": {},
     "output_type": "display_data"
    },
    {
     "data": {
      "text/plain": [
       "['a', 'b', 'c', 'd', 'e', 'hello', ['f', 'g', 'h', 'i', 'j']]"
      ]
     },
     "metadata": {},
     "output_type": "display_data"
    }
   ],
   "source": [
    "#adding an item to a list\n",
    "mylist.append('hello')\n",
    "display(mylist)\n",
    "mylist.append(herlist)\n",
    "display(mylist)"
   ]
  },
  {
   "cell_type": "code",
   "execution_count": 22,
   "metadata": {},
   "outputs": [
    {
     "data": {
      "text/plain": [
       "['a', 'b', 'c', 'd', 'e', 'f', 'g', 'h', 'i', 'j']"
      ]
     },
     "metadata": {},
     "output_type": "display_data"
    },
    {
     "data": {
      "text/plain": [
       "['a', 'b', 'c', 'd', 'e', 'f', 'g', 'h', 'i', 'j']"
      ]
     },
     "metadata": {},
     "output_type": "display_data"
    }
   ],
   "source": [
    "#reset\n",
    "mylist = list('abcde')\n",
    "herlist = list('fglmj')\n",
    "#combine lists\n",
    "display(mylist + herlist)\n",
    "mylist.extend(herlist) # occurs inplace!\n",
    "display(mylist)"
   ]
  },
  {
   "cell_type": "code",
   "execution_count": 23,
   "metadata": {},
   "outputs": [
    {
     "data": {
      "text/plain": [
       "'b'"
      ]
     },
     "metadata": {},
     "output_type": "display_data"
    },
    {
     "data": {
      "text/plain": [
       "3"
      ]
     },
     "metadata": {},
     "output_type": "display_data"
    }
   ],
   "source": [
    "#access elements in a list\n",
    "display(mylist[1])\n",
    "display(mylist.index('d'))"
   ]
  },
  {
   "cell_type": "code",
   "execution_count": 24,
   "metadata": {},
   "outputs": [
    {
     "data": {
      "text/plain": [
       "'j'"
      ]
     },
     "execution_count": 24,
     "metadata": {},
     "output_type": "execute_result"
    }
   ],
   "source": [
    "# removes an item from a list\n",
    "mylist.pop() #removes last item by defect and displays it"
   ]
  },
  {
   "cell_type": "code",
   "execution_count": 26,
   "metadata": {},
   "outputs": [
    {
     "data": {
      "text/plain": [
       "'b'"
      ]
     },
     "execution_count": 26,
     "metadata": {},
     "output_type": "execute_result"
    }
   ],
   "source": [
    "mylist.pop(1) #can take position al argument"
   ]
  },
  {
   "cell_type": "code",
   "execution_count": 27,
   "metadata": {},
   "outputs": [
    {
     "data": {
      "text/plain": [
       "['f', 'g', 'h', 'i', 'j']"
      ]
     },
     "execution_count": 27,
     "metadata": {},
     "output_type": "execute_result"
    }
   ],
   "source": [
    "#sort list\n",
    "sorted(herlist) #numeriacal or alphabetical order"
   ]
  },
  {
   "cell_type": "code",
   "execution_count": 35,
   "metadata": {},
   "outputs": [
    {
     "data": {
      "text/plain": [
       "[('a', 'f'), ('b', 'g'), ('c', 'h'), ('d', 'i'), ('e', 'j')]"
      ]
     },
     "metadata": {},
     "output_type": "display_data"
    }
   ],
   "source": [
    "#reset\n",
    "mylist = list('abcde')\n",
    "herlist = list('fghij')\n",
    "#create list of tuples by zipping lists together\n",
    "z = list(zip(mylist, herlist))\n",
    "display(z)"
   ]
  },
  {
   "cell_type": "code",
   "execution_count": 36,
   "metadata": {},
   "outputs": [
    {
     "data": {
      "text/plain": [
       "'a'"
      ]
     },
     "metadata": {},
     "output_type": "display_data"
    }
   ],
   "source": [
    "#unpack tuple\n",
    "a,b = z[0]\n",
    "display(a) #this can be done directly within loops"
   ]
  },
  {
   "cell_type": "code",
   "execution_count": 37,
   "metadata": {},
   "outputs": [
    {
     "name": "stdout",
     "output_type": "stream",
     "text": [
      "0 a\n",
      "1 b\n",
      "2 c\n",
      "3 d\n",
      "4 e\n"
     ]
    }
   ],
   "source": [
    "# to create tuples with the position and the data in that position while looping\n",
    "for ind, it in enumerate(mylist):\n",
    "    print(ind, it)"
   ]
  },
  {
   "cell_type": "code",
   "execution_count": 54,
   "metadata": {},
   "outputs": [
    {
     "data": {
      "text/plain": [
       "{'a', 'b', 'c', 'd', 'e'}"
      ]
     },
     "metadata": {},
     "output_type": "display_data"
    },
    {
     "data": {
      "text/plain": [
       "set"
      ]
     },
     "metadata": {},
     "output_type": "display_data"
    },
    {
     "data": {
      "text/plain": [
       "{'a', 'b', 'c', 'd', 'e', 'h'}"
      ]
     },
     "metadata": {},
     "output_type": "display_data"
    },
    {
     "name": "stdout",
     "output_type": "stream",
     "text": [
      "{'f', 'b', 'd', 'c', 'e', 'i', 'a', 'g', 'h', 'j'}\n"
     ]
    }
   ],
   "source": [
    "# to modify sets\n",
    "s = set(mylist)\n",
    "display(s, type(s))\n",
    "s.add('h')\n",
    "display(s)\n",
    "s.update(herlist) # occurs inplace!\n",
    "print(s)"
   ]
  },
  {
   "cell_type": "markdown",
   "metadata": {},
   "source": [
    "to remove data from sets\n",
    "`discard()` safely removes an element from the set by value\n",
    "`pop()` removes and returns an arbitrary element from the set (KeyError when empty)"
   ]
  },
  {
   "cell_type": "code",
   "execution_count": 55,
   "metadata": {},
   "outputs": [
    {
     "data": {
      "text/plain": [
       "{'a', 'b', 'c', 'd', 'e', 'g', 'h', 'i', 'j'}"
      ]
     },
     "metadata": {},
     "output_type": "display_data"
    }
   ],
   "source": [
    "s.discard('f')\n",
    "display (s)"
   ]
  },
  {
   "cell_type": "code",
   "execution_count": 56,
   "metadata": {},
   "outputs": [
    {
     "data": {
      "text/plain": [
       "'b'"
      ]
     },
     "execution_count": 56,
     "metadata": {},
     "output_type": "execute_result"
    }
   ],
   "source": [
    "s.pop()"
   ]
  },
  {
   "cell_type": "markdown",
   "metadata": {},
   "source": [
    "> Set Operations\n",
    "* `.union()` set method returns a set of all the names ( or )\n",
    "* `.intersection()` method identi?es overlapping data ( and )\n",
    "* `.difference()` method identi?es data present in the set on which the method was used that is not in the arguments ( - )"
   ]
  },
  {
   "cell_type": "code",
   "execution_count": 58,
   "metadata": {},
   "outputs": [
    {
     "name": "stdout",
     "output_type": "stream",
     "text": [
      "{'a': 'f', 'b': 'g', 'c': 'h', 'd': 'i', 'e': 'j'}\n"
     ]
    }
   ],
   "source": [
    "#create dict\n",
    "mydict = {}\n",
    "mylist = list('abcde')\n",
    "herlist = list('fghij')\n",
    "for a,b in list(zip(mylist, herlist)):\n",
    "    mydict[a]=b\n",
    "    \n",
    "print(mydict)"
   ]
  },
  {
   "cell_type": "code",
   "execution_count": 59,
   "metadata": {},
   "outputs": [
    {
     "data": {
      "text/plain": [
       "'g'"
      ]
     },
     "metadata": {},
     "output_type": "display_data"
    },
    {
     "data": {
      "text/plain": [
       "'g'"
      ]
     },
     "metadata": {},
     "output_type": "display_data"
    }
   ],
   "source": [
    "#to find values\n",
    "display(mydict['b']) # If you ask for a key that does not exist that will stop your program from running in a KeyError\n",
    "display(mydict.get('b')) # allows you to safely access a key without error or exception handling"
   ]
  },
  {
   "cell_type": "markdown",
   "metadata": {},
   "source": [
    "* `.update()` method to update a dictionary from another dictionary, tuples or keywords\n",
    "* `del` instruction deletes a key/value\n",
    "* `.pop()` method safely removes a key/value from a dictionary"
   ]
  },
  {
   "cell_type": "code",
   "execution_count": 60,
   "metadata": {},
   "outputs": [
    {
     "data": {
      "text/plain": [
       "{'a': 'f', 'c': 'h', 'd': 'i', 'e': 'j'}"
      ]
     },
     "execution_count": 60,
     "metadata": {},
     "output_type": "execute_result"
    }
   ],
   "source": [
    "del mydict['b']\n",
    "mydict"
   ]
  },
  {
   "cell_type": "code",
   "execution_count": 62,
   "metadata": {},
   "outputs": [
    {
     "data": {
      "text/plain": [
       "'f'"
      ]
     },
     "execution_count": 62,
     "metadata": {},
     "output_type": "execute_result"
    }
   ],
   "source": [
    "mydict.pop('a')"
   ]
  },
  {
   "cell_type": "code",
   "execution_count": 63,
   "metadata": {},
   "outputs": [
    {
     "data": {
      "text/plain": [
       "{'c': 'h', 'd': 'i', 'e': 'j'}"
      ]
     },
     "execution_count": 63,
     "metadata": {},
     "output_type": "execute_result"
    }
   ],
   "source": [
    "mydict"
   ]
  },
  {
   "cell_type": "markdown",
   "metadata": {},
   "source": [
    "* `.items()` method returns an object we can iterate over\n",
    "* `in` allows checking in value in dict"
   ]
  },
  {
   "cell_type": "markdown",
   "metadata": {},
   "source": [
    "### to read from a file usin csv reader\n",
    "* `csv.reader()` reads a ?le object and returns the lines from the file as tuples\n",
    "\n",
    "```\n",
    "import csv\n",
    "csvfile = open('ART_GALLERY.csv', 'r')\n",
    "for row in csv.reader(csvfile):\n",
    "print(row)\n",
    "```"
   ]
  },
  {
   "cell_type": "markdown",
   "metadata": {},
   "source": [
    "### to create a dict from a file use DictReader\n",
    "\n",
    "```\n",
    "for row in csv.DictReader(csvfile):\n",
    "print(row)\n",
    "```"
   ]
  },
  {
   "cell_type": "code",
   "execution_count": null,
   "metadata": {},
   "outputs": [],
   "source": []
  }
 ],
 "metadata": {
  "kernelspec": {
   "display_name": "Python 3",
   "language": "python",
   "name": "python3"
  },
  "language_info": {
   "codemirror_mode": {
    "name": "ipython",
    "version": 3
   },
   "file_extension": ".py",
   "mimetype": "text/x-python",
   "name": "python",
   "nbconvert_exporter": "python",
   "pygments_lexer": "ipython3",
   "version": "3.8.5"
  }
 },
 "nbformat": 4,
 "nbformat_minor": 4
}
