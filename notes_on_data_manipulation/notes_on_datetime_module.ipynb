{
 "cells": [
  {
   "cell_type": "markdown",
   "metadata": {},
   "source": [
    "The  **datetime** module is part of the Python standard library\n",
    "\n",
    "* From string to datetime `.strptime()`\n",
    "\n",
    "* Datetime to String `.strftime()` , `isoformat()`"
   ]
  },
  {
   "cell_type": "code",
   "execution_count": 11,
   "metadata": {
    "scrolled": true
   },
   "outputs": [
    {
     "data": {
      "text/plain": [
       "datetime.datetime(2021, 3, 30, 0, 0)"
      ]
     },
     "metadata": {},
     "output_type": "display_data"
    },
    {
     "name": "stdout",
     "output_type": "stream",
     "text": [
      "2021-03-30 00:00:00\n"
     ]
    },
    {
     "data": {
      "text/plain": [
       "'30/03/2021'"
      ]
     },
     "metadata": {},
     "output_type": "display_data"
    },
    {
     "data": {
      "text/plain": [
       "'2021-03-30T00:00:00'"
      ]
     },
     "metadata": {},
     "output_type": "display_data"
    }
   ],
   "source": [
    "from datetime import datetime\n",
    "\n",
    "d = datetime.strptime('30/03/2021','%d/%m/%Y')\n",
    "display(d)\n",
    "print(d)\n",
    "\n",
    "s = d.strftime('%d/%m/%Y')\n",
    "display(s)\n",
    "\n",
    "i= d.isoformat()\n",
    "display(i)"
   ]
  },
  {
   "cell_type": "code",
   "execution_count": 12,
   "metadata": {},
   "outputs": [
    {
     "data": {
      "text/plain": [
       "30"
      ]
     },
     "metadata": {},
     "output_type": "display_data"
    },
    {
     "data": {
      "text/plain": [
       "3"
      ]
     },
     "metadata": {},
     "output_type": "display_data"
    },
    {
     "data": {
      "text/plain": [
       "2021"
      ]
     },
     "metadata": {},
     "output_type": "display_data"
    }
   ],
   "source": [
    "display(d.day)\n",
    "display(d.month)\n",
    "display(d.year)"
   ]
  },
  {
   "cell_type": "code",
   "execution_count": 17,
   "metadata": {},
   "outputs": [
    {
     "data": {
      "text/plain": [
       "datetime.datetime(2021, 3, 30, 16, 9, 42, 232373)"
      ]
     },
     "metadata": {},
     "output_type": "display_data"
    },
    {
     "data": {
      "text/plain": [
       "datetime.datetime(2021, 3, 30, 15, 9, 42, 234368)"
      ]
     },
     "metadata": {},
     "output_type": "display_data"
    }
   ],
   "source": [
    "display(datetime.now())\n",
    "display(datetime.utcnow())"
   ]
  },
  {
   "cell_type": "markdown",
   "metadata": {},
   "source": [
    "#### timezones\n",
    "* Naive datetime objects have no timezone data\n",
    "* Aware datetime objects have a timezone\n",
    "* Timezone data is available via the  `pytz` module via the timezone object\n",
    "* Aware objects have  `.astimezone()` so you can get the time in another timezone"
   ]
  },
  {
   "cell_type": "code",
   "execution_count": 24,
   "metadata": {},
   "outputs": [
    {
     "data": {
      "text/plain": [
       "datetime.datetime(2020, 12, 21, 2, 39, tzinfo=<DstTzInfo 'Europe/Dublin' LMT-1 day, 23:35:00 STD>)"
      ]
     },
     "metadata": {},
     "output_type": "display_data"
    },
    {
     "data": {
      "text/plain": [
       "datetime.datetime(2020, 12, 21, 0, 4, tzinfo=<DstTzInfo 'America/Recife' -03-1 day, 21:00:00 STD>)"
      ]
     },
     "metadata": {},
     "output_type": "display_data"
    }
   ],
   "source": [
    "from pytz import timezone\n",
    "\n",
    "dt = datetime.strptime('21/12/2020 02:39PM', '%d/%m/%Y %H:%M%p')\n",
    "eu_tz = timezone('Europe/Dublin')\n",
    "a_tz = timezone('America/Recife')\n",
    "eu_dt = dt.replace(tzinfo=eu_tz)\n",
    "a_dt = eu_dt.astimezone(a_tz)\n",
    "display(eu_dt, a_dt)"
   ]
  },
  {
   "cell_type": "markdown",
   "metadata": {},
   "source": [
    "#### timedelta\n",
    "is used to represent an amount of change in time\n",
    "Used to add or subtract a set amount of time from a datetime object"
   ]
  },
  {
   "cell_type": "code",
   "execution_count": 25,
   "metadata": {},
   "outputs": [
    {
     "name": "stdout",
     "output_type": "stream",
     "text": [
      "2020-09-22 02:39:00-00:25\n",
      "2021-03-21 02:39:00-00:25\n"
     ]
    }
   ],
   "source": [
    "from datetime import timedelta\n",
    "flashback = timedelta(days=90)\n",
    "print(eu_dt - flashback)\n",
    "print(eu_dt + flashback)"
   ]
  },
  {
   "cell_type": "markdown",
   "metadata": {},
   "source": [
    "###### Libraries to make it easier\n",
    "* **pendulum** : \n",
    "`.parse()` will attempt to convert a string to a pendulum datetime object without the need of the format string\n",
    "`.in_timezone()` method converts a pendulum time object to a desired timezone.\n",
    "`.now()` method accepts a timezone you want to get the current time in\n",
    "`.in_words()` provides the di?erence in a nice expressive form"
   ]
  }
 ],
 "metadata": {
  "kernelspec": {
   "display_name": "Python 3",
   "language": "python",
   "name": "python3"
  },
  "language_info": {
   "codemirror_mode": {
    "name": "ipython",
    "version": 3
   },
   "file_extension": ".py",
   "mimetype": "text/x-python",
   "name": "python",
   "nbconvert_exporter": "python",
   "pygments_lexer": "ipython3",
   "version": "3.8.5"
  }
 },
 "nbformat": 4,
 "nbformat_minor": 4
}
