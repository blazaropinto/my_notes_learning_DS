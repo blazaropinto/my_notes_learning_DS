{
 "cells": [
  {
   "cell_type": "markdown",
   "metadata": {},
   "source": [
    "When you use a function incorrectly, it should throw you an error. An error caught during execution, commonly called exception.\n",
    "\n",
    "* When you use a function incorrectly, it should throw you an error: **ValueError**\n",
    "* Passing invalid arguments: **TypeError**\n",
    "* **StopIteration**\n",
    "* **KeyError**"
   ]
  },
  {
   "cell_type": "markdown",
   "metadata": {},
   "source": [
    "#### Exception handling\n",
    "\n",
    "To catch an exception and handle it, use the try-except-finally code: \n",
    "\n",
    "* wrap the code that you're worried about in a `try` block, \n",
    "* add an `except` block, followed by the name of the particular exception you want to handle, and the code that should be executed when the exception is raised. \n",
    "\n",
    "> Then if this particular exception does happen, the program will not terminate, but execute the code in the except block instead.\n",
    "\n",
    "> You can also have multiple exception blocks. \n",
    "\n",
    "* finally, you can use the optional `finally` block that will contain the code that runs no matter what. This block is best used for cleaning up like, for example, closing opened files.\n",
    "\n",
    "> You can also use the `raise` keyword, optionally followed by a specific error message in parentheses\n",
    "\n",
    "In Python, exceptions are actually classes inherited from built-in classes BaseException or Exception.\n",
    "\n",
    "> You can define your own exceptions\n",
    "\n",
    "To define a custom exception, just define a class that inherits from the built-in Exception class or one of its subclasses. The class itself can be empty, inheritance alone is enough to ensure that Python will treat this class as an exception class."
   ]
  },
  {
   "cell_type": "code",
   "execution_count": 1,
   "metadata": {},
   "outputs": [
    {
     "name": "stdout",
     "output_type": "stream",
     "text": [
      "0.16666666666666666\n",
      "Cannot divide by zero!\n",
      "None\n",
      "Index out of range!\n",
      "None\n"
     ]
    }
   ],
   "source": [
    "# MODIFY the function to catch exceptions\n",
    "def invert_at_index(x, ind):\n",
    "    try:\n",
    "        return 1/x[ind]\n",
    "    except ZeroDivisionError:\n",
    "        print(\"Cannot divide by zero!\")\n",
    "    except IndexError:\n",
    "        print(\"Index out of range!\")\n",
    "\n",
    "thislist = [5,6,0,7]\n",
    "\n",
    "# Works okay\n",
    "print(invert_at_index(thislist, 1))\n",
    "\n",
    "# Potential ZeroDivisionError\n",
    "print(invert_at_index(thislist, 2))\n",
    "\n",
    "# Potential IndexError\n",
    "print(invert_at_index(thislist, 5))"
   ]
  },
  {
   "cell_type": "code",
   "execution_count": 2,
   "metadata": {},
   "outputs": [],
   "source": [
    "# example of customizing Errors\n",
    "\n",
    "class SalaryError(ValueError): pass\n",
    "class BonusError(SalaryError): pass\n",
    "\n",
    "\n",
    "class Employee:\n",
    "  MIN_SALARY = 30000\n",
    "  MAX_BONUS = 5000\n",
    "\n",
    "  def __init__(self, name, salary = 30000):\n",
    "    self.name = name    \n",
    "    if salary < Employee.MIN_SALARY:\n",
    "      raise SalaryError(\"Salary is too low!\")      \n",
    "    self.salary = salary\n",
    "    \n",
    "  # Rewrite using exceptions  \n",
    "  def give_bonus(self, amount):\n",
    "    if amount > Employee.MAX_BONUS:\n",
    "       raise BonusError(\"The bonus amount is too high!\")  \n",
    "        \n",
    "    elif self.salary + amount <  Employee.MIN_SALARY:\n",
    "       raise SalaryError(\"The salary after bonus is too low!\")\n",
    "    # if you raise an exception inside an if statement, you don't need to add an else branch to run the rest of the code.\n",
    "    # Because raise terminates the function, the code after raise will only be executed if an exception did not occur.  \n",
    "    self.salary += amount\n"
   ]
  },
  {
   "cell_type": "markdown",
   "metadata": {},
   "source": [
    "> `except` block for a parent exception will catch child exceptions\n",
    "> It's better to list the except blocks in the increasing order of specificity, i.e. children before parents, otherwise the child exception will be called in the parent except block."
   ]
  }
 ],
 "metadata": {
  "kernelspec": {
   "display_name": "Python 3",
   "language": "python",
   "name": "python3"
  },
  "language_info": {
   "codemirror_mode": {
    "name": "ipython",
    "version": 3
   },
   "file_extension": ".py",
   "mimetype": "text/x-python",
   "name": "python",
   "nbconvert_exporter": "python",
   "pygments_lexer": "ipython3",
   "version": "3.8.5"
  }
 },
 "nbformat": 4,
 "nbformat_minor": 4
}
