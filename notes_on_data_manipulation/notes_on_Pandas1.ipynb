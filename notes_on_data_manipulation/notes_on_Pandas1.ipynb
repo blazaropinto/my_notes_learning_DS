{
 "cells": [
  {
   "cell_type": "markdown",
   "metadata": {},
   "source": [
    "Dataframe: Tabular dataset -with different types of data- built on numpy + matplotlib \n",
    "\n",
    "`dataframe.values` returns a 2d np array containing a list of lists (a list of \"rows\")\n",
    "* access with square brackets`[]`for columns (that returns a pandas series); double squared brackets `[[]]`returns dataframe\n",
    "    * to select a col name without spaces dot notation can be used.\n",
    "* advanced:\n",
    "    * loc\n",
    "    * iloc"
   ]
  },
  {
   "cell_type": "markdown",
   "metadata": {},
   "source": [
    "### Differences with basic python/other libraries:\n",
    "#### Loops\n",
    "* `for val in df` iterates over columns\n",
    "*  to iterate over rows `for i, row in df.iterrows()`\n",
    "\n",
    "#### Boolean conditions to subset\n",
    "* & instead of and\n",
    "* | instead of or"
   ]
  },
  {
   "cell_type": "code",
   "execution_count": 1,
   "metadata": {},
   "outputs": [],
   "source": [
    "# import library\n",
    "import pandas as pd"
   ]
  },
  {
   "cell_type": "markdown",
   "metadata": {},
   "source": [
    "# Basics"
   ]
  },
  {
   "cell_type": "code",
   "execution_count": 2,
   "metadata": {},
   "outputs": [
    {
     "data": {
      "text/html": [
       "<div>\n",
       "<style scoped>\n",
       "    .dataframe tbody tr th:only-of-type {\n",
       "        vertical-align: middle;\n",
       "    }\n",
       "\n",
       "    .dataframe tbody tr th {\n",
       "        vertical-align: top;\n",
       "    }\n",
       "\n",
       "    .dataframe thead th {\n",
       "        text-align: right;\n",
       "    }\n",
       "</style>\n",
       "<table border=\"1\" class=\"dataframe\">\n",
       "  <thead>\n",
       "    <tr style=\"text-align: right;\">\n",
       "      <th></th>\n",
       "      <th>Br</th>\n",
       "      <th>Pt</th>\n",
       "      <th>Sp</th>\n",
       "      <th>UK</th>\n",
       "    </tr>\n",
       "  </thead>\n",
       "  <tbody>\n",
       "    <tr>\n",
       "      <th>1961</th>\n",
       "      <td>19962.0</td>\n",
       "      <td>70000.0</td>\n",
       "      <td>385500.0</td>\n",
       "      <td>339000.0</td>\n",
       "    </tr>\n",
       "    <tr>\n",
       "      <th>1962</th>\n",
       "      <td>22600.0</td>\n",
       "      <td>58000.0</td>\n",
       "      <td>274500.0</td>\n",
       "      <td>583000.0</td>\n",
       "    </tr>\n",
       "    <tr>\n",
       "      <th>1963</th>\n",
       "      <td>23241.0</td>\n",
       "      <td>92000.0</td>\n",
       "      <td>480700.0</td>\n",
       "      <td>545000.0</td>\n",
       "    </tr>\n",
       "    <tr>\n",
       "      <th>1964</th>\n",
       "      <td>21158.0</td>\n",
       "      <td>85000.0</td>\n",
       "      <td>321600.0</td>\n",
       "      <td>653000.0</td>\n",
       "    </tr>\n",
       "    <tr>\n",
       "      <th>1965</th>\n",
       "      <td>40386.0</td>\n",
       "      <td>96000.0</td>\n",
       "      <td>446800.0</td>\n",
       "      <td>529000.0</td>\n",
       "    </tr>\n",
       "  </tbody>\n",
       "</table>\n",
       "</div>"
      ],
      "text/plain": [
       "           Br       Pt        Sp        UK\n",
       "1961  19962.0  70000.0  385500.0  339000.0\n",
       "1962  22600.0  58000.0  274500.0  583000.0\n",
       "1963  23241.0  92000.0  480700.0  545000.0\n",
       "1964  21158.0  85000.0  321600.0  653000.0\n",
       "1965  40386.0  96000.0  446800.0  529000.0"
      ]
     },
     "metadata": {},
     "output_type": "display_data"
    }
   ],
   "source": [
    "# import dataset from external file to dataframe\n",
    "df = pd.read_csv('../datasets/clean/simpledf_applevalues.csv', index_col=0)\n",
    "# display the head of the data\n",
    "display(df.head()) #df.tail() will print the last rows"
   ]
  },
  {
   "cell_type": "code",
   "execution_count": 3,
   "metadata": {},
   "outputs": [
    {
     "name": "stdout",
     "output_type": "stream",
     "text": [
      "<class 'pandas.core.frame.DataFrame'>\n",
      "Int64Index: 59 entries, 1961 to 2019\n",
      "Data columns (total 4 columns):\n",
      " #   Column  Non-Null Count  Dtype  \n",
      "---  ------  --------------  -----  \n",
      " 0   Br      59 non-null     float64\n",
      " 1   Pt      59 non-null     float64\n",
      " 2   Sp      59 non-null     float64\n",
      " 3   UK      59 non-null     float64\n",
      "dtypes: float64(4)\n",
      "memory usage: 2.3 KB\n",
      "None\n"
     ]
    }
   ],
   "source": [
    "# Print information about df\n",
    "print(df.info()) #number of rows, cols, dtype in each col, number of missing values..."
   ]
  },
  {
   "cell_type": "code",
   "execution_count": 4,
   "metadata": {
    "scrolled": true
   },
   "outputs": [
    {
     "data": {
      "text/plain": [
       "Int64Index([1961, 1962, 1963, 1964, 1965, 1966, 1967, 1968, 1969, 1970, 1971,\n",
       "            1972, 1973, 1974, 1975, 1976, 1977, 1978, 1979, 1980, 1981, 1982,\n",
       "            1983, 1984, 1985, 1986, 1987, 1988, 1989, 1990, 1991, 1992, 1993,\n",
       "            1994, 1995, 1996, 1997, 1998, 1999, 2000, 2001, 2002, 2003, 2004,\n",
       "            2005, 2006, 2007, 2008, 2009, 2010, 2011, 2012, 2013, 2014, 2015,\n",
       "            2016, 2017, 2018, 2019],\n",
       "           dtype='int64')"
      ]
     },
     "metadata": {},
     "output_type": "display_data"
    },
    {
     "data": {
      "text/plain": [
       "pandas.core.indexes.numeric.Int64Index"
      ]
     },
     "metadata": {},
     "output_type": "display_data"
    },
    {
     "data": {
      "text/plain": [
       "Index(['Br', 'Pt', 'Sp', 'UK'], dtype='object')"
      ]
     },
     "metadata": {},
     "output_type": "display_data"
    },
    {
     "data": {
      "text/plain": [
       "pandas.core.indexes.base.Index"
      ]
     },
     "metadata": {},
     "output_type": "display_data"
    }
   ],
   "source": [
    "display(df.index, type(df.index)) # the row index (can be accessed as a list)\n",
    "display(df.columns, type(df.columns)) # the column index"
   ]
  },
  {
   "cell_type": "code",
   "execution_count": 5,
   "metadata": {},
   "outputs": [
    {
     "data": {
      "text/html": [
       "<div>\n",
       "<style scoped>\n",
       "    .dataframe tbody tr th:only-of-type {\n",
       "        vertical-align: middle;\n",
       "    }\n",
       "\n",
       "    .dataframe tbody tr th {\n",
       "        vertical-align: top;\n",
       "    }\n",
       "\n",
       "    .dataframe thead th {\n",
       "        text-align: right;\n",
       "    }\n",
       "</style>\n",
       "<table border=\"1\" class=\"dataframe\">\n",
       "  <thead>\n",
       "    <tr style=\"text-align: right;\">\n",
       "      <th></th>\n",
       "      <th>Br</th>\n",
       "      <th>Pt</th>\n",
       "      <th>Sp</th>\n",
       "      <th>UK</th>\n",
       "    </tr>\n",
       "  </thead>\n",
       "  <tbody>\n",
       "    <tr>\n",
       "      <th>1961</th>\n",
       "      <td>19962.0</td>\n",
       "      <td>70000.0</td>\n",
       "      <td>385500.0</td>\n",
       "      <td>339000.0</td>\n",
       "    </tr>\n",
       "    <tr>\n",
       "      <th>1964</th>\n",
       "      <td>21158.0</td>\n",
       "      <td>85000.0</td>\n",
       "      <td>321600.0</td>\n",
       "      <td>653000.0</td>\n",
       "    </tr>\n",
       "    <tr>\n",
       "      <th>1973</th>\n",
       "      <td>22265.0</td>\n",
       "      <td>142910.0</td>\n",
       "      <td>1015100.0</td>\n",
       "      <td>490041.0</td>\n",
       "    </tr>\n",
       "    <tr>\n",
       "      <th>1962</th>\n",
       "      <td>22600.0</td>\n",
       "      <td>58000.0</td>\n",
       "      <td>274500.0</td>\n",
       "      <td>583000.0</td>\n",
       "    </tr>\n",
       "    <tr>\n",
       "      <th>1963</th>\n",
       "      <td>23241.0</td>\n",
       "      <td>92000.0</td>\n",
       "      <td>480700.0</td>\n",
       "      <td>545000.0</td>\n",
       "    </tr>\n",
       "  </tbody>\n",
       "</table>\n",
       "</div>"
      ],
      "text/plain": [
       "           Br        Pt         Sp        UK\n",
       "1961  19962.0   70000.0   385500.0  339000.0\n",
       "1964  21158.0   85000.0   321600.0  653000.0\n",
       "1973  22265.0  142910.0  1015100.0  490041.0\n",
       "1962  22600.0   58000.0   274500.0  583000.0\n",
       "1963  23241.0   92000.0   480700.0  545000.0"
      ]
     },
     "execution_count": 5,
     "metadata": {},
     "output_type": "execute_result"
    }
   ],
   "source": [
    "# Sort df by apple production in Brazil (value in column Br)\n",
    "df_br = df.sort_values('Br') # by default values are sorted in ascendent order\n",
    "df_br.head()"
   ]
  },
  {
   "cell_type": "code",
   "execution_count": 6,
   "metadata": {},
   "outputs": [
    {
     "data": {
      "text/html": [
       "<div>\n",
       "<style scoped>\n",
       "    .dataframe tbody tr th:only-of-type {\n",
       "        vertical-align: middle;\n",
       "    }\n",
       "\n",
       "    .dataframe tbody tr th {\n",
       "        vertical-align: top;\n",
       "    }\n",
       "\n",
       "    .dataframe thead th {\n",
       "        text-align: right;\n",
       "    }\n",
       "</style>\n",
       "<table border=\"1\" class=\"dataframe\">\n",
       "  <thead>\n",
       "    <tr style=\"text-align: right;\">\n",
       "      <th></th>\n",
       "      <th>Br</th>\n",
       "      <th>Pt</th>\n",
       "      <th>Sp</th>\n",
       "      <th>UK</th>\n",
       "    </tr>\n",
       "  </thead>\n",
       "  <tbody>\n",
       "    <tr>\n",
       "      <th>1962</th>\n",
       "      <td>22600.0</td>\n",
       "      <td>58000.0</td>\n",
       "      <td>274500.0</td>\n",
       "      <td>583000.0</td>\n",
       "    </tr>\n",
       "    <tr>\n",
       "      <th>1963</th>\n",
       "      <td>23241.0</td>\n",
       "      <td>92000.0</td>\n",
       "      <td>480700.0</td>\n",
       "      <td>545000.0</td>\n",
       "    </tr>\n",
       "    <tr>\n",
       "      <th>1964</th>\n",
       "      <td>21158.0</td>\n",
       "      <td>85000.0</td>\n",
       "      <td>321600.0</td>\n",
       "      <td>653000.0</td>\n",
       "    </tr>\n",
       "    <tr>\n",
       "      <th>1965</th>\n",
       "      <td>40386.0</td>\n",
       "      <td>96000.0</td>\n",
       "      <td>446800.0</td>\n",
       "      <td>529000.0</td>\n",
       "    </tr>\n",
       "    <tr>\n",
       "      <th>1966</th>\n",
       "      <td>23559.0</td>\n",
       "      <td>86533.0</td>\n",
       "      <td>412200.0</td>\n",
       "      <td>370000.0</td>\n",
       "    </tr>\n",
       "  </tbody>\n",
       "</table>\n",
       "</div>"
      ],
      "text/plain": [
       "           Br       Pt        Sp        UK\n",
       "1962  22600.0  58000.0  274500.0  583000.0\n",
       "1963  23241.0  92000.0  480700.0  545000.0\n",
       "1964  21158.0  85000.0  321600.0  653000.0\n",
       "1965  40386.0  96000.0  446800.0  529000.0\n",
       "1966  23559.0  86533.0  412200.0  370000.0"
      ]
     },
     "execution_count": 6,
     "metadata": {},
     "output_type": "execute_result"
    }
   ],
   "source": [
    "# Filter for rows where apple production in Brazil (value in column Br) is greater than 20000\n",
    "br_gt_20k = df[df['Br'] > 20000]\n",
    "br_gt_20k.head()"
   ]
  },
  {
   "cell_type": "code",
   "execution_count": 7,
   "metadata": {},
   "outputs": [
    {
     "data": {
      "text/plain": [
       "Br    32621224.0\n",
       "Pt    11426402.0\n",
       "Sp    43963622.0\n",
       "UK    20461412.0\n",
       "dtype: float64"
      ]
     },
     "execution_count": 7,
     "metadata": {},
     "output_type": "execute_result"
    }
   ],
   "source": [
    "df.sum(axis=0)"
   ]
  },
  {
   "cell_type": "code",
   "execution_count": 8,
   "metadata": {
    "scrolled": true
   },
   "outputs": [
    {
     "data": {
      "text/html": [
       "<div>\n",
       "<style scoped>\n",
       "    .dataframe tbody tr th:only-of-type {\n",
       "        vertical-align: middle;\n",
       "    }\n",
       "\n",
       "    .dataframe tbody tr th {\n",
       "        vertical-align: top;\n",
       "    }\n",
       "\n",
       "    .dataframe thead th {\n",
       "        text-align: right;\n",
       "    }\n",
       "</style>\n",
       "<table border=\"1\" class=\"dataframe\">\n",
       "  <thead>\n",
       "    <tr style=\"text-align: right;\">\n",
       "      <th></th>\n",
       "      <th>Br</th>\n",
       "      <th>Pt</th>\n",
       "      <th>Sp</th>\n",
       "      <th>UK</th>\n",
       "      <th>total</th>\n",
       "    </tr>\n",
       "  </thead>\n",
       "  <tbody>\n",
       "    <tr>\n",
       "      <th>1961</th>\n",
       "      <td>19962.0</td>\n",
       "      <td>70000.0</td>\n",
       "      <td>385500.0</td>\n",
       "      <td>339000.0</td>\n",
       "      <td>814462.0</td>\n",
       "    </tr>\n",
       "    <tr>\n",
       "      <th>1962</th>\n",
       "      <td>22600.0</td>\n",
       "      <td>58000.0</td>\n",
       "      <td>274500.0</td>\n",
       "      <td>583000.0</td>\n",
       "      <td>938100.0</td>\n",
       "    </tr>\n",
       "    <tr>\n",
       "      <th>1963</th>\n",
       "      <td>23241.0</td>\n",
       "      <td>92000.0</td>\n",
       "      <td>480700.0</td>\n",
       "      <td>545000.0</td>\n",
       "      <td>1140941.0</td>\n",
       "    </tr>\n",
       "    <tr>\n",
       "      <th>1964</th>\n",
       "      <td>21158.0</td>\n",
       "      <td>85000.0</td>\n",
       "      <td>321600.0</td>\n",
       "      <td>653000.0</td>\n",
       "      <td>1080758.0</td>\n",
       "    </tr>\n",
       "    <tr>\n",
       "      <th>1965</th>\n",
       "      <td>40386.0</td>\n",
       "      <td>96000.0</td>\n",
       "      <td>446800.0</td>\n",
       "      <td>529000.0</td>\n",
       "      <td>1112186.0</td>\n",
       "    </tr>\n",
       "  </tbody>\n",
       "</table>\n",
       "</div>"
      ],
      "text/plain": [
       "           Br       Pt        Sp        UK      total\n",
       "1961  19962.0  70000.0  385500.0  339000.0   814462.0\n",
       "1962  22600.0  58000.0  274500.0  583000.0   938100.0\n",
       "1963  23241.0  92000.0  480700.0  545000.0  1140941.0\n",
       "1964  21158.0  85000.0  321600.0  653000.0  1080758.0\n",
       "1965  40386.0  96000.0  446800.0  529000.0  1112186.0"
      ]
     },
     "execution_count": 8,
     "metadata": {},
     "output_type": "execute_result"
    }
   ],
   "source": [
    "# Add total col for the four countries\n",
    "df['total'] = df.sum(axis=1) # axis 1: sum 'through the columns'; axis 0: through the rows\n",
    "# if executing that several times the sum is performed several times\n",
    "df.head()"
   ]
  },
  {
   "cell_type": "code",
   "execution_count": 9,
   "metadata": {
    "scrolled": false
   },
   "outputs": [
    {
     "data": {
      "text/html": [
       "<div>\n",
       "<style scoped>\n",
       "    .dataframe tbody tr th:only-of-type {\n",
       "        vertical-align: middle;\n",
       "    }\n",
       "\n",
       "    .dataframe tbody tr th {\n",
       "        vertical-align: top;\n",
       "    }\n",
       "\n",
       "    .dataframe thead th {\n",
       "        text-align: right;\n",
       "    }\n",
       "</style>\n",
       "<table border=\"1\" class=\"dataframe\">\n",
       "  <thead>\n",
       "    <tr style=\"text-align: right;\">\n",
       "      <th></th>\n",
       "      <th>Br</th>\n",
       "      <th>Pt</th>\n",
       "      <th>Sp</th>\n",
       "      <th>UK</th>\n",
       "      <th>total</th>\n",
       "      <th>seu</th>\n",
       "    </tr>\n",
       "  </thead>\n",
       "  <tbody>\n",
       "    <tr>\n",
       "      <th>1961</th>\n",
       "      <td>19962.0</td>\n",
       "      <td>70000.0</td>\n",
       "      <td>385500.0</td>\n",
       "      <td>339000.0</td>\n",
       "      <td>814462.0</td>\n",
       "      <td>405462.0</td>\n",
       "    </tr>\n",
       "    <tr>\n",
       "      <th>1962</th>\n",
       "      <td>22600.0</td>\n",
       "      <td>58000.0</td>\n",
       "      <td>274500.0</td>\n",
       "      <td>583000.0</td>\n",
       "      <td>938100.0</td>\n",
       "      <td>297100.0</td>\n",
       "    </tr>\n",
       "    <tr>\n",
       "      <th>1963</th>\n",
       "      <td>23241.0</td>\n",
       "      <td>92000.0</td>\n",
       "      <td>480700.0</td>\n",
       "      <td>545000.0</td>\n",
       "      <td>1140941.0</td>\n",
       "      <td>503941.0</td>\n",
       "    </tr>\n",
       "    <tr>\n",
       "      <th>1964</th>\n",
       "      <td>21158.0</td>\n",
       "      <td>85000.0</td>\n",
       "      <td>321600.0</td>\n",
       "      <td>653000.0</td>\n",
       "      <td>1080758.0</td>\n",
       "      <td>342758.0</td>\n",
       "    </tr>\n",
       "    <tr>\n",
       "      <th>1965</th>\n",
       "      <td>40386.0</td>\n",
       "      <td>96000.0</td>\n",
       "      <td>446800.0</td>\n",
       "      <td>529000.0</td>\n",
       "      <td>1112186.0</td>\n",
       "      <td>487186.0</td>\n",
       "    </tr>\n",
       "  </tbody>\n",
       "</table>\n",
       "</div>"
      ],
      "text/plain": [
       "           Br       Pt        Sp        UK      total       seu\n",
       "1961  19962.0  70000.0  385500.0  339000.0   814462.0  405462.0\n",
       "1962  22600.0  58000.0  274500.0  583000.0   938100.0  297100.0\n",
       "1963  23241.0  92000.0  480700.0  545000.0  1140941.0  503941.0\n",
       "1964  21158.0  85000.0  321600.0  653000.0  1080758.0  342758.0\n",
       "1965  40386.0  96000.0  446800.0  529000.0  1112186.0  487186.0"
      ]
     },
     "execution_count": 9,
     "metadata": {},
     "output_type": "execute_result"
    }
   ],
   "source": [
    "# Add total col for the south of europe as sum \n",
    "df['seu']=df['Sp'] + df['Br'] # also df = df.assign(seu=df['Sp'] + df.Br)\n",
    "df.head()"
   ]
  },
  {
   "cell_type": "code",
   "execution_count": 10,
   "metadata": {},
   "outputs": [
    {
     "data": {
      "text/html": [
       "<div>\n",
       "<style scoped>\n",
       "    .dataframe tbody tr th:only-of-type {\n",
       "        vertical-align: middle;\n",
       "    }\n",
       "\n",
       "    .dataframe tbody tr th {\n",
       "        vertical-align: top;\n",
       "    }\n",
       "\n",
       "    .dataframe thead th {\n",
       "        text-align: right;\n",
       "    }\n",
       "</style>\n",
       "<table border=\"1\" class=\"dataframe\">\n",
       "  <thead>\n",
       "    <tr style=\"text-align: right;\">\n",
       "      <th></th>\n",
       "      <th>Br</th>\n",
       "      <th>Pt</th>\n",
       "      <th>Sp</th>\n",
       "      <th>UK</th>\n",
       "      <th>total</th>\n",
       "      <th>seu</th>\n",
       "      <th>prop_seu</th>\n",
       "    </tr>\n",
       "  </thead>\n",
       "  <tbody>\n",
       "    <tr>\n",
       "      <th>1961</th>\n",
       "      <td>19962.0</td>\n",
       "      <td>70000.0</td>\n",
       "      <td>385500.0</td>\n",
       "      <td>339000.0</td>\n",
       "      <td>814462.0</td>\n",
       "      <td>405462.0</td>\n",
       "      <td>0.497828</td>\n",
       "    </tr>\n",
       "    <tr>\n",
       "      <th>1962</th>\n",
       "      <td>22600.0</td>\n",
       "      <td>58000.0</td>\n",
       "      <td>274500.0</td>\n",
       "      <td>583000.0</td>\n",
       "      <td>938100.0</td>\n",
       "      <td>297100.0</td>\n",
       "      <td>0.316704</td>\n",
       "    </tr>\n",
       "    <tr>\n",
       "      <th>1963</th>\n",
       "      <td>23241.0</td>\n",
       "      <td>92000.0</td>\n",
       "      <td>480700.0</td>\n",
       "      <td>545000.0</td>\n",
       "      <td>1140941.0</td>\n",
       "      <td>503941.0</td>\n",
       "      <td>0.441689</td>\n",
       "    </tr>\n",
       "    <tr>\n",
       "      <th>1964</th>\n",
       "      <td>21158.0</td>\n",
       "      <td>85000.0</td>\n",
       "      <td>321600.0</td>\n",
       "      <td>653000.0</td>\n",
       "      <td>1080758.0</td>\n",
       "      <td>342758.0</td>\n",
       "      <td>0.317146</td>\n",
       "    </tr>\n",
       "    <tr>\n",
       "      <th>1965</th>\n",
       "      <td>40386.0</td>\n",
       "      <td>96000.0</td>\n",
       "      <td>446800.0</td>\n",
       "      <td>529000.0</td>\n",
       "      <td>1112186.0</td>\n",
       "      <td>487186.0</td>\n",
       "      <td>0.438044</td>\n",
       "    </tr>\n",
       "  </tbody>\n",
       "</table>\n",
       "</div>"
      ],
      "text/plain": [
       "           Br       Pt        Sp        UK      total       seu  prop_seu\n",
       "1961  19962.0  70000.0  385500.0  339000.0   814462.0  405462.0  0.497828\n",
       "1962  22600.0  58000.0  274500.0  583000.0   938100.0  297100.0  0.316704\n",
       "1963  23241.0  92000.0  480700.0  545000.0  1140941.0  503941.0  0.441689\n",
       "1964  21158.0  85000.0  321600.0  653000.0  1080758.0  342758.0  0.317146\n",
       "1965  40386.0  96000.0  446800.0  529000.0  1112186.0  487186.0  0.438044"
      ]
     },
     "execution_count": 10,
     "metadata": {},
     "output_type": "execute_result"
    }
   ],
   "source": [
    "# Add prop_seu col as proportion of total\n",
    "df['prop_seu'] = df['seu']/df['total']\n",
    "df.head()"
   ]
  },
  {
   "cell_type": "markdown",
   "metadata": {},
   "source": [
    "### Sumary statistics "
   ]
  },
  {
   "cell_type": "code",
   "execution_count": 11,
   "metadata": {},
   "outputs": [
    {
     "data": {
      "text/html": [
       "<div>\n",
       "<style scoped>\n",
       "    .dataframe tbody tr th:only-of-type {\n",
       "        vertical-align: middle;\n",
       "    }\n",
       "\n",
       "    .dataframe tbody tr th {\n",
       "        vertical-align: top;\n",
       "    }\n",
       "\n",
       "    .dataframe thead th {\n",
       "        text-align: right;\n",
       "    }\n",
       "</style>\n",
       "<table border=\"1\" class=\"dataframe\">\n",
       "  <thead>\n",
       "    <tr style=\"text-align: right;\">\n",
       "      <th></th>\n",
       "      <th>Area</th>\n",
       "      <th>Element</th>\n",
       "      <th>Year</th>\n",
       "      <th>Unit</th>\n",
       "      <th>Value</th>\n",
       "    </tr>\n",
       "  </thead>\n",
       "  <tbody>\n",
       "    <tr>\n",
       "      <th>0</th>\n",
       "      <td>Afghanistan</td>\n",
       "      <td>Total Population - Both sexes</td>\n",
       "      <td>1950</td>\n",
       "      <td>1000 persons</td>\n",
       "      <td>7752.118</td>\n",
       "    </tr>\n",
       "    <tr>\n",
       "      <th>1</th>\n",
       "      <td>Afghanistan</td>\n",
       "      <td>Total Population - Male</td>\n",
       "      <td>1950</td>\n",
       "      <td>1000 persons</td>\n",
       "      <td>4099.243</td>\n",
       "    </tr>\n",
       "    <tr>\n",
       "      <th>2</th>\n",
       "      <td>Afghanistan</td>\n",
       "      <td>Total Population - Female</td>\n",
       "      <td>1950</td>\n",
       "      <td>1000 persons</td>\n",
       "      <td>3652.874</td>\n",
       "    </tr>\n",
       "    <tr>\n",
       "      <th>3</th>\n",
       "      <td>Afghanistan</td>\n",
       "      <td>Rural population</td>\n",
       "      <td>1950</td>\n",
       "      <td>1000 persons</td>\n",
       "      <td>7286.991</td>\n",
       "    </tr>\n",
       "    <tr>\n",
       "      <th>4</th>\n",
       "      <td>Afghanistan</td>\n",
       "      <td>Urban population</td>\n",
       "      <td>1950</td>\n",
       "      <td>1000 persons</td>\n",
       "      <td>465.127</td>\n",
       "    </tr>\n",
       "  </tbody>\n",
       "</table>\n",
       "</div>"
      ],
      "text/plain": [
       "          Area                        Element  Year          Unit     Value\n",
       "0  Afghanistan  Total Population - Both sexes  1950  1000 persons  7752.118\n",
       "1  Afghanistan        Total Population - Male  1950  1000 persons  4099.243\n",
       "2  Afghanistan      Total Population - Female  1950  1000 persons  3652.874\n",
       "3  Afghanistan               Rural population  1950  1000 persons  7286.991\n",
       "4  Afghanistan               Urban population  1950  1000 persons   465.127"
      ]
     },
     "metadata": {},
     "output_type": "display_data"
    },
    {
     "data": {
      "text/plain": [
       "(70585, 5)"
      ]
     },
     "metadata": {},
     "output_type": "display_data"
    }
   ],
   "source": [
    "#another dataset\n",
    "pop = pd.read_csv('../datasets/clean/pop.csv', index_col=0, header=0)\n",
    "display(pop.head())\n",
    "display(pop.shape) # (rows, columns)"
   ]
  },
  {
   "cell_type": "code",
   "execution_count": 12,
   "metadata": {},
   "outputs": [
    {
     "name": "stdout",
     "output_type": "stream",
     "text": [
      "16017.317497550159 \n",
      "\n",
      "Year     1986.000\n",
      "Value    1344.157\n",
      "dtype: float64 \n",
      "\n",
      "2018 \n",
      "\n",
      "1950 \n",
      "\n",
      "3      7286.991\n",
      "8     14639.847\n",
      "13    22065.210\n",
      "18    29569.771\n",
      "23    37160.141\n",
      "Name: Value, dtype: float64 \n",
      " 3     7286.991\n",
      "8     7352.856\n",
      "13    7425.363\n",
      "18    7504.561\n",
      "23    7590.370\n",
      "Name: Value, dtype: float64 \n",
      "\n",
      "10th percentile: 32.2184 \n",
      "1st quartile: 184.245\n"
     ]
    }
   ],
   "source": [
    "# Print the mean of the value for the rural population\n",
    "print(pop[pop.Element == 'Rural population']['Value'].mean(), '\\n')\n",
    "\n",
    "# Print the median of the value for the rural population\n",
    "print(pop[pop.Element == 'Rural population'].median(), '\\n') #sumary statistics of all columns with numeric values\n",
    "\n",
    "# Print the maximum of the year column\n",
    "print(pop.Year.max(), '\\n')\n",
    "\n",
    "# Print the minimum of the year column\n",
    "print(pop.Year.min(), '\\n')\n",
    "\n",
    "# Print the cumulative sum/ the cumulative max\n",
    "print(pop[pop.Element == 'Rural population']['Value'].cumsum().head(), '\\n', \n",
    "     pop[pop.Element == 'Rural population']['Value'].cummax().head(), '\\n')\n",
    "\n",
    "# Print the 10th percentile and the 1st quartile of the value column\n",
    "print('10th percentile:', pop.Value.quantile(0.1),'\\n1st quartile:', pop.Value.quantile(0.25))"
   ]
  },
  {
   "cell_type": "code",
   "execution_count": 13,
   "metadata": {
    "scrolled": true
   },
   "outputs": [
    {
     "name": "stdout",
     "output_type": "stream",
     "text": [
      "                   Br             Pt             Sp            UK\n",
      "iqr     917592.000000  162755.000000  333941.500000  179750.00000\n",
      "median  526904.000000  229794.000000  730000.000000  346600.00000\n",
      "mean    552902.101695  193667.830508  745146.135593  346803.59322 \n",
      "\n",
      "                Br          Pt          Sp          UK\n",
      "iqr       917592.0    162755.0    333941.5    179750.0\n",
      "median    526904.0    229794.0    730000.0    346600.0\n",
      "sum     32621224.0  11426402.0  43963622.0  20461412.0\n",
      "min        19962.0     58000.0    274500.0    143900.0\n",
      "max      1378617.0    355700.0   1161700.0    653000.0\n"
     ]
    }
   ],
   "source": [
    "# Create custom function \n",
    "def iqr(column):\n",
    "    return column.quantile(0.75) - column.quantile(0.25)\n",
    "\n",
    "# With the first dataset, update to print IQR and median of temperature_c, fuel_price_usd_per_l, & unemployment\n",
    "print(df[['Br', 'Pt', 'Sp', 'UK']].agg([iqr, 'median','mean']), '\\n')\n",
    "print(df[['Br', 'Pt', 'Sp', 'UK']].agg([iqr, 'median', sum, min, max]))"
   ]
  },
  {
   "cell_type": "code",
   "execution_count": 14,
   "metadata": {},
   "outputs": [
    {
     "name": "stdout",
     "output_type": "stream",
     "text": [
      "                   Br             Pt             Sp            UK\n",
      "iqr     917592.000000  162755.000000  333941.500000  179750.00000\n",
      "median  526904.000000  229794.000000  730000.000000  346600.00000\n",
      "mean    552902.101695  193667.830508  745146.135593  346803.59322\n"
     ]
    }
   ],
   "source": [
    "# Import numpy and use its function to do the above calculations\n",
    "import numpy as np\n",
    "print(df[['Br', 'Pt', 'Sp', 'UK']].agg([iqr, np.median, np.mean]))"
   ]
  },
  {
   "cell_type": "markdown",
   "metadata": {},
   "source": [
    "### More subseting and calculations"
   ]
  },
  {
   "cell_type": "code",
   "execution_count": 15,
   "metadata": {
    "scrolled": false
   },
   "outputs": [
    {
     "data": {
      "text/html": [
       "<div>\n",
       "<style scoped>\n",
       "    .dataframe tbody tr th:only-of-type {\n",
       "        vertical-align: middle;\n",
       "    }\n",
       "\n",
       "    .dataframe tbody tr th {\n",
       "        vertical-align: top;\n",
       "    }\n",
       "\n",
       "    .dataframe thead th {\n",
       "        text-align: right;\n",
       "    }\n",
       "</style>\n",
       "<table border=\"1\" class=\"dataframe\">\n",
       "  <thead>\n",
       "    <tr style=\"text-align: right;\">\n",
       "      <th></th>\n",
       "      <th>Area</th>\n",
       "      <th>Element</th>\n",
       "      <th>Year</th>\n",
       "      <th>Unit</th>\n",
       "      <th>Value</th>\n",
       "    </tr>\n",
       "  </thead>\n",
       "  <tbody>\n",
       "    <tr>\n",
       "      <th>3</th>\n",
       "      <td>Afghanistan</td>\n",
       "      <td>Rural population</td>\n",
       "      <td>1950</td>\n",
       "      <td>1000 persons</td>\n",
       "      <td>7286.991</td>\n",
       "    </tr>\n",
       "    <tr>\n",
       "      <th>4</th>\n",
       "      <td>Afghanistan</td>\n",
       "      <td>Urban population</td>\n",
       "      <td>1950</td>\n",
       "      <td>1000 persons</td>\n",
       "      <td>465.127</td>\n",
       "    </tr>\n",
       "    <tr>\n",
       "      <th>8</th>\n",
       "      <td>Afghanistan</td>\n",
       "      <td>Rural population</td>\n",
       "      <td>1951</td>\n",
       "      <td>1000 persons</td>\n",
       "      <td>7352.856</td>\n",
       "    </tr>\n",
       "    <tr>\n",
       "      <th>9</th>\n",
       "      <td>Afghanistan</td>\n",
       "      <td>Urban population</td>\n",
       "      <td>1951</td>\n",
       "      <td>1000 persons</td>\n",
       "      <td>486.654</td>\n",
       "    </tr>\n",
       "    <tr>\n",
       "      <th>13</th>\n",
       "      <td>Afghanistan</td>\n",
       "      <td>Rural population</td>\n",
       "      <td>1952</td>\n",
       "      <td>1000 persons</td>\n",
       "      <td>7425.363</td>\n",
       "    </tr>\n",
       "  </tbody>\n",
       "</table>\n",
       "</div>"
      ],
      "text/plain": [
       "           Area           Element  Year          Unit     Value\n",
       "3   Afghanistan  Rural population  1950  1000 persons  7286.991\n",
       "4   Afghanistan  Urban population  1950  1000 persons   465.127\n",
       "8   Afghanistan  Rural population  1951  1000 persons  7352.856\n",
       "9   Afghanistan  Urban population  1951  1000 persons   486.654\n",
       "13  Afghanistan  Rural population  1952  1000 persons  7425.363"
      ]
     },
     "metadata": {},
     "output_type": "display_data"
    },
    {
     "data": {
      "text/plain": [
       "(29798, 5)"
      ]
     },
     "metadata": {},
     "output_type": "display_data"
    }
   ],
   "source": [
    "# Subset for rows of rural and urban population\n",
    "pop_ru = pop[pop['Element'].isin(['Rural population','Urban population'])] # isin takes a list of values\n",
    "display(pop_ru.head())\n",
    "display(pop_ru.shape) "
   ]
  },
  {
   "cell_type": "code",
   "execution_count": 16,
   "metadata": {},
   "outputs": [
    {
     "data": {
      "text/html": [
       "<div>\n",
       "<style scoped>\n",
       "    .dataframe tbody tr th:only-of-type {\n",
       "        vertical-align: middle;\n",
       "    }\n",
       "\n",
       "    .dataframe tbody tr th {\n",
       "        vertical-align: top;\n",
       "    }\n",
       "\n",
       "    .dataframe thead th {\n",
       "        text-align: right;\n",
       "    }\n",
       "</style>\n",
       "<table border=\"1\" class=\"dataframe\">\n",
       "  <thead>\n",
       "    <tr style=\"text-align: right;\">\n",
       "      <th></th>\n",
       "      <th>Area</th>\n",
       "      <th>Element</th>\n",
       "      <th>Year</th>\n",
       "      <th>Unit</th>\n",
       "      <th>Value</th>\n",
       "    </tr>\n",
       "  </thead>\n",
       "  <tbody>\n",
       "    <tr>\n",
       "      <th>0</th>\n",
       "      <td>Afghanistan</td>\n",
       "      <td>Total Population - Both sexes</td>\n",
       "      <td>1950</td>\n",
       "      <td>1000 persons</td>\n",
       "      <td>7752.118</td>\n",
       "    </tr>\n",
       "    <tr>\n",
       "      <th>1</th>\n",
       "      <td>Afghanistan</td>\n",
       "      <td>Total Population - Male</td>\n",
       "      <td>1950</td>\n",
       "      <td>1000 persons</td>\n",
       "      <td>4099.243</td>\n",
       "    </tr>\n",
       "    <tr>\n",
       "      <th>2</th>\n",
       "      <td>Afghanistan</td>\n",
       "      <td>Total Population - Female</td>\n",
       "      <td>1950</td>\n",
       "      <td>1000 persons</td>\n",
       "      <td>3652.874</td>\n",
       "    </tr>\n",
       "    <tr>\n",
       "      <th>3</th>\n",
       "      <td>Afghanistan</td>\n",
       "      <td>Rural population</td>\n",
       "      <td>1950</td>\n",
       "      <td>1000 persons</td>\n",
       "      <td>7286.991</td>\n",
       "    </tr>\n",
       "    <tr>\n",
       "      <th>4</th>\n",
       "      <td>Afghanistan</td>\n",
       "      <td>Urban population</td>\n",
       "      <td>1950</td>\n",
       "      <td>1000 persons</td>\n",
       "      <td>465.127</td>\n",
       "    </tr>\n",
       "  </tbody>\n",
       "</table>\n",
       "</div>"
      ],
      "text/plain": [
       "          Area                        Element  Year          Unit     Value\n",
       "0  Afghanistan  Total Population - Both sexes  1950  1000 persons  7752.118\n",
       "1  Afghanistan        Total Population - Male  1950  1000 persons  4099.243\n",
       "2  Afghanistan      Total Population - Female  1950  1000 persons  3652.874\n",
       "3  Afghanistan               Rural population  1950  1000 persons  7286.991\n",
       "4  Afghanistan               Urban population  1950  1000 persons   465.127"
      ]
     },
     "metadata": {},
     "output_type": "display_data"
    },
    {
     "data": {
      "text/plain": [
       "False"
      ]
     },
     "metadata": {},
     "output_type": "display_data"
    },
    {
     "data": {
      "text/plain": [
       "False"
      ]
     },
     "metadata": {},
     "output_type": "display_data"
    },
    {
     "data": {
      "text/html": [
       "<div>\n",
       "<style scoped>\n",
       "    .dataframe tbody tr th:only-of-type {\n",
       "        vertical-align: middle;\n",
       "    }\n",
       "\n",
       "    .dataframe tbody tr th {\n",
       "        vertical-align: top;\n",
       "    }\n",
       "\n",
       "    .dataframe thead th {\n",
       "        text-align: right;\n",
       "    }\n",
       "</style>\n",
       "<table border=\"1\" class=\"dataframe\">\n",
       "  <thead>\n",
       "    <tr style=\"text-align: right;\">\n",
       "      <th></th>\n",
       "      <th>Area</th>\n",
       "      <th>Year</th>\n",
       "      <th>Value</th>\n",
       "    </tr>\n",
       "  </thead>\n",
       "  <tbody>\n",
       "    <tr>\n",
       "      <th>203</th>\n",
       "      <td>South Sudan</td>\n",
       "      <td>2012</td>\n",
       "      <td>8847.540</td>\n",
       "    </tr>\n",
       "    <tr>\n",
       "      <th>206</th>\n",
       "      <td>Sudan</td>\n",
       "      <td>2012</td>\n",
       "      <td>23988.926</td>\n",
       "    </tr>\n",
       "    <tr>\n",
       "      <th>197</th>\n",
       "      <td>Sint Maarten  (Dutch part)</td>\n",
       "      <td>2011</td>\n",
       "      <td>0.000</td>\n",
       "    </tr>\n",
       "    <tr>\n",
       "      <th>26</th>\n",
       "      <td>Bonaire, Sint Eustatius and Saba</td>\n",
       "      <td>2011</td>\n",
       "      <td>5.557</td>\n",
       "    </tr>\n",
       "    <tr>\n",
       "      <th>57</th>\n",
       "      <td>CuraÃ§ao</td>\n",
       "      <td>2011</td>\n",
       "      <td>15.398</td>\n",
       "    </tr>\n",
       "  </tbody>\n",
       "</table>\n",
       "</div>"
      ],
      "text/plain": [
       "                                 Area  Year      Value\n",
       "203                       South Sudan  2012   8847.540\n",
       "206                             Sudan  2012  23988.926\n",
       "197        Sint Maarten  (Dutch part)  2011      0.000\n",
       "26   Bonaire, Sint Eustatius and Saba  2011      5.557\n",
       "57                           CuraÃ§ao  2011     15.398"
      ]
     },
     "metadata": {},
     "output_type": "display_data"
    }
   ],
   "source": [
    "# Drop duplicate year/value combinations\n",
    "pop_ru2 = pop.drop_duplicates(['Area','Element'])\n",
    "display(pop_ru2.head())\n",
    "#check conditions (number of rows)\n",
    "display(pop_ru.shape[0] == pop_ru2.shape[0], pop.shape[0] == pop_ru2.shape[0])\n",
    "\n",
    "# Subset the rows for Rural population and drop duplicate countries\n",
    "ruralpop_per_country = pop[pop.Element =='Rural population'].drop_duplicates('Area',\n",
    "                                                                             ignore_index=True)[['Area', 'Year', 'Value']]\n",
    "display(ruralpop_per_country.sort_values('Year', ascending=False).head())"
   ]
  },
  {
   "cell_type": "code",
   "execution_count": 17,
   "metadata": {},
   "outputs": [
    {
     "name": "stdout",
     "output_type": "stream",
     "text": [
      "Total Population - Both sexes    14915\n",
      "Rural population                 14899\n",
      "Urban population                 14899\n",
      "Total Population - Male          12936\n",
      "Total Population - Female        12936\n",
      "Name: Element, dtype: int64\n"
     ]
    }
   ],
   "source": [
    "# Count the number of measurements per element\n",
    "pop_counts = pop.Element.value_counts()\n",
    "print(pop_counts)"
   ]
  },
  {
   "cell_type": "code",
   "execution_count": 18,
   "metadata": {},
   "outputs": [
    {
     "name": "stdout",
     "output_type": "stream",
     "text": [
      "Total Population - Both sexes    0.211306\n",
      "Rural population                 0.211079\n",
      "Urban population                 0.211079\n",
      "Total Population - Male          0.183268\n",
      "Total Population - Female        0.183268\n",
      "Name: Element, dtype: float64\n"
     ]
    }
   ],
   "source": [
    "# Get the proportion of measurements per element in the dataset\n",
    "pop_props = pop.Element.value_counts()/len(pop.Element.index)\n",
    "print(pop_props)"
   ]
  },
  {
   "cell_type": "code",
   "execution_count": 19,
   "metadata": {},
   "outputs": [
    {
     "name": "stdout",
     "output_type": "stream",
     "text": [
      "Total Population - Both sexes    0.211306\n",
      "Rural population                 0.211079\n",
      "Urban population                 0.211079\n",
      "Total Population - Male          0.183268\n",
      "Total Population - Female        0.183268\n",
      "Name: Element, dtype: float64\n"
     ]
    }
   ],
   "source": [
    "# Get the proportion of measurements per element in the dataset and sort\n",
    "pop_props_sorted = pop.Element.value_counts(sort=True, normalize=True) #same calculation as above\n",
    "print(pop_props_sorted)"
   ]
  },
  {
   "cell_type": "code",
   "execution_count": 20,
   "metadata": {},
   "outputs": [
    {
     "data": {
      "text/plain": [
       "1229978428.277"
      ]
     },
     "execution_count": 20,
     "metadata": {},
     "output_type": "execute_result"
    }
   ],
   "source": [
    "# Calc total weekly sales\n",
    "pop_all = pop.Value.sum() #used in a series instead of df, no need to specify axis\n",
    "pop_all"
   ]
  },
  {
   "cell_type": "code",
   "execution_count": 21,
   "metadata": {},
   "outputs": [
    {
     "name": "stdout",
     "output_type": "stream",
     "text": [
      "[0.1940213  0.13918546 0.16510831 0.16826564]\n"
     ]
    }
   ],
   "source": [
    "# Subset for Rural population, calc total population value\n",
    "ruralpop = pop[pop.Element =='Rural population'][\"Value\"].sum()\n",
    "\n",
    "# Subset for Urban population, calc total population value\n",
    "urbanpop = pop[pop.Element =='Urban population'][\"Value\"].sum()\n",
    "\n",
    "# Subset for female population, calc total population value\n",
    "fempop = pop[pop.Element =='Total Population - Female'][\"Value\"].sum()\n",
    "\n",
    "# Subset for male population, calc total population value\n",
    "malepop = pop[pop.Element =='Total Population - Male'][\"Value\"].sum()\n",
    "\n",
    "# Get proportion for each type\n",
    "pop_propn_by_element = [ruralpop, urbanpop, fempop, malepop] / pop_all\n",
    "print(pop_propn_by_element)"
   ]
  },
  {
   "cell_type": "code",
   "execution_count": 22,
   "metadata": {},
   "outputs": [
    {
     "data": {
      "text/plain": [
       "Element\n",
       "Rural population                 2.386420e+08\n",
       "Total Population - Both sexes    4.100985e+08\n",
       "Total Population - Female        2.030797e+08\n",
       "Total Population - Male          2.069631e+08\n",
       "Urban population                 1.711951e+08\n",
       "Name: Value, dtype: float64"
      ]
     },
     "execution_count": 22,
     "metadata": {},
     "output_type": "execute_result"
    }
   ],
   "source": [
    "#same as before with less code: groupby()\n",
    "pop_by_element = pop.groupby('Element')['Value'].sum()\n",
    "pop_by_element"
   ]
  },
  {
   "cell_type": "code",
   "execution_count": 23,
   "metadata": {},
   "outputs": [
    {
     "name": "stdout",
     "output_type": "stream",
     "text": [
      "Element\n",
      "Rural population                 0.194021\n",
      "Total Population - Both sexes    0.333419\n",
      "Total Population - Female        0.165108\n",
      "Total Population - Male          0.168266\n",
      "Urban population                 0.139185\n",
      "Name: Value, dtype: float64 \n",
      " [0.1940213  0.13918546 0.16510831 0.16826564]\n"
     ]
    }
   ],
   "source": [
    "# Get proportion for each type\n",
    "pop_propn_by_element2 = pop_by_element / sum(pop.Value)\n",
    "print(pop_propn_by_element2, '\\n', pop_propn_by_element) # both calculations give the same results (different order)"
   ]
  },
  {
   "cell_type": "markdown",
   "metadata": {},
   "source": [
    "### Index"
   ]
  },
  {
   "cell_type": "code",
   "execution_count": 24,
   "metadata": {},
   "outputs": [
    {
     "data": {
      "text/html": [
       "<div>\n",
       "<style scoped>\n",
       "    .dataframe tbody tr th:only-of-type {\n",
       "        vertical-align: middle;\n",
       "    }\n",
       "\n",
       "    .dataframe tbody tr th {\n",
       "        vertical-align: top;\n",
       "    }\n",
       "\n",
       "    .dataframe thead th {\n",
       "        text-align: right;\n",
       "    }\n",
       "</style>\n",
       "<table border=\"1\" class=\"dataframe\">\n",
       "  <thead>\n",
       "    <tr style=\"text-align: right;\">\n",
       "      <th></th>\n",
       "      <th>Br</th>\n",
       "      <th>Pt</th>\n",
       "      <th>Sp</th>\n",
       "      <th>UK</th>\n",
       "      <th>total</th>\n",
       "      <th>seu</th>\n",
       "      <th>prop_seu</th>\n",
       "    </tr>\n",
       "  </thead>\n",
       "  <tbody>\n",
       "    <tr>\n",
       "      <th>1975</th>\n",
       "      <td>34192.0</td>\n",
       "      <td>140503.0</td>\n",
       "      <td>1078700.0</td>\n",
       "      <td>374600.0</td>\n",
       "      <td>1627995.0</td>\n",
       "      <td>1112892.0</td>\n",
       "      <td>0.683597</td>\n",
       "    </tr>\n",
       "    <tr>\n",
       "      <th>1976</th>\n",
       "      <td>42348.0</td>\n",
       "      <td>154553.0</td>\n",
       "      <td>1007300.0</td>\n",
       "      <td>363500.0</td>\n",
       "      <td>1567701.0</td>\n",
       "      <td>1049648.0</td>\n",
       "      <td>0.669546</td>\n",
       "    </tr>\n",
       "    <tr>\n",
       "      <th>1977</th>\n",
       "      <td>46125.0</td>\n",
       "      <td>94471.0</td>\n",
       "      <td>730000.0</td>\n",
       "      <td>270000.0</td>\n",
       "      <td>1140596.0</td>\n",
       "      <td>776125.0</td>\n",
       "      <td>0.680456</td>\n",
       "    </tr>\n",
       "    <tr>\n",
       "      <th>1978</th>\n",
       "      <td>51758.0</td>\n",
       "      <td>117382.0</td>\n",
       "      <td>1072000.0</td>\n",
       "      <td>391200.0</td>\n",
       "      <td>1632340.0</td>\n",
       "      <td>1123758.0</td>\n",
       "      <td>0.688434</td>\n",
       "    </tr>\n",
       "    <tr>\n",
       "      <th>1979</th>\n",
       "      <td>69099.0</td>\n",
       "      <td>107385.0</td>\n",
       "      <td>1161700.0</td>\n",
       "      <td>363000.0</td>\n",
       "      <td>1701184.0</td>\n",
       "      <td>1230799.0</td>\n",
       "      <td>0.723496</td>\n",
       "    </tr>\n",
       "  </tbody>\n",
       "</table>\n",
       "</div>"
      ],
      "text/plain": [
       "           Br        Pt         Sp        UK      total        seu  prop_seu\n",
       "1975  34192.0  140503.0  1078700.0  374600.0  1627995.0  1112892.0  0.683597\n",
       "1976  42348.0  154553.0  1007300.0  363500.0  1567701.0  1049648.0  0.669546\n",
       "1977  46125.0   94471.0   730000.0  270000.0  1140596.0   776125.0  0.680456\n",
       "1978  51758.0  117382.0  1072000.0  391200.0  1632340.0  1123758.0  0.688434\n",
       "1979  69099.0  107385.0  1161700.0  363000.0  1701184.0  1230799.0  0.723496"
      ]
     },
     "metadata": {},
     "output_type": "display_data"
    },
    {
     "data": {
      "text/html": [
       "<div>\n",
       "<style scoped>\n",
       "    .dataframe tbody tr th:only-of-type {\n",
       "        vertical-align: middle;\n",
       "    }\n",
       "\n",
       "    .dataframe tbody tr th {\n",
       "        vertical-align: top;\n",
       "    }\n",
       "\n",
       "    .dataframe thead th {\n",
       "        text-align: right;\n",
       "    }\n",
       "</style>\n",
       "<table border=\"1\" class=\"dataframe\">\n",
       "  <thead>\n",
       "    <tr style=\"text-align: right;\">\n",
       "      <th></th>\n",
       "      <th>Pt</th>\n",
       "      <th>Sp</th>\n",
       "    </tr>\n",
       "  </thead>\n",
       "  <tbody>\n",
       "    <tr>\n",
       "      <th>1975</th>\n",
       "      <td>140503.0</td>\n",
       "      <td>1078700.0</td>\n",
       "    </tr>\n",
       "    <tr>\n",
       "      <th>1976</th>\n",
       "      <td>154553.0</td>\n",
       "      <td>1007300.0</td>\n",
       "    </tr>\n",
       "    <tr>\n",
       "      <th>1977</th>\n",
       "      <td>94471.0</td>\n",
       "      <td>730000.0</td>\n",
       "    </tr>\n",
       "    <tr>\n",
       "      <th>1978</th>\n",
       "      <td>117382.0</td>\n",
       "      <td>1072000.0</td>\n",
       "    </tr>\n",
       "    <tr>\n",
       "      <th>1979</th>\n",
       "      <td>107385.0</td>\n",
       "      <td>1161700.0</td>\n",
       "    </tr>\n",
       "  </tbody>\n",
       "</table>\n",
       "</div>"
      ],
      "text/plain": [
       "            Pt         Sp\n",
       "1975  140503.0  1078700.0\n",
       "1976  154553.0  1007300.0\n",
       "1977   94471.0   730000.0\n",
       "1978  117382.0  1072000.0\n",
       "1979  107385.0  1161700.0"
      ]
     },
     "metadata": {},
     "output_type": "display_data"
    }
   ],
   "source": [
    "# subset by setting a range\n",
    "display(df.loc['1975':'1979'])\n",
    "display(df.loc['1975':'1979', 'Pt':'Sp'])"
   ]
  }
 ],
 "metadata": {
  "kernelspec": {
   "display_name": "Python 3",
   "language": "python",
   "name": "python3"
  },
  "language_info": {
   "codemirror_mode": {
    "name": "ipython",
    "version": 3
   },
   "file_extension": ".py",
   "mimetype": "text/x-python",
   "name": "python",
   "nbconvert_exporter": "python",
   "pygments_lexer": "ipython3",
   "version": "3.8.5"
  }
 },
 "nbformat": 4,
 "nbformat_minor": 4
}
