{
 "cells": [
  {
   "cell_type": "markdown",
   "metadata": {},
   "source": [
    "###  Built-in functions"
   ]
  },
  {
   "cell_type": "markdown",
   "metadata": {},
   "source": [
    "### User-defined functions\n",
    "\n",
    "* The first piece of code is called a *function header*.the keyword `def`, followed by the chosen function name, a set of parentheses and a colon. \n",
    "> Note:  when you define a function, you write **parameters** in the function header. When you call a function, you pass **arguments** into the function.\n",
    "\n",
    "* Function *docstrings* are placed in the immediate line after the function header and are placed in between triple quotation marks.\n",
    "> ***Docstrings*** are used to describe what your function does, such as the computations it performs or its return values. These descriptions serve as documentation for your function so that anyone who reads your function's docstring understands what your function does, without having to trace through all the code in the function definition.\n",
    "\n",
    "* Then, the function body\n",
    "> Function bodies need to be indented by a consistent number of spaces and the choice of 4 is common.\n",
    "\n",
    "* The output\n",
    "> You can have your function return the new value by adding the `return` keyword."
   ]
  },
  {
   "cell_type": "markdown",
   "metadata": {},
   "source": [
    "##### without parameters"
   ]
  },
  {
   "cell_type": "markdown",
   "metadata": {},
   "source": [
    "##### with single parameters"
   ]
  },
  {
   "cell_type": "markdown",
   "metadata": {},
   "source": [
    "##### return a single value"
   ]
  },
  {
   "cell_type": "markdown",
   "metadata": {},
   "source": [
    "##### pass multiple arguments"
   ]
  },
  {
   "cell_type": "markdown",
   "metadata": {},
   "source": [
    "##### return multiple values\n",
    "You can  make your function return multiple values by constructing tuples in your functions."
   ]
  },
  {
   "cell_type": "code",
   "execution_count": 2,
   "metadata": {},
   "outputs": [
    {
     "data": {
      "text/plain": [
       "2"
      ]
     },
     "metadata": {},
     "output_type": "display_data"
    },
    {
     "data": {
      "text/plain": [
       "4"
      ]
     },
     "metadata": {},
     "output_type": "display_data"
    },
    {
     "data": {
      "text/plain": [
       "6"
      ]
     },
     "metadata": {},
     "output_type": "display_data"
    },
    {
     "name": "stdout",
     "output_type": "stream",
     "text": [
      "4\n"
     ]
    }
   ],
   "source": [
    "# You can also unpack a tuple into several variables in one line.\n",
    "even_nums = (2, 4, 6)\n",
    "a, b, c = even_nums\n",
    "display(a, b, c)\n",
    "print(even_nums[1])"
   ]
  },
  {
   "cell_type": "markdown",
   "metadata": {},
   "source": [
    "### Scope (in the context of user-defined functions)\n",
    "tells you which part of a program an object or a name (variable or function) may be accessed from\n",
    "\n",
    "1. ***the global scope*** \n",
    "A name is in the global scope when defined *in the main body of a script* or a Python program.\n",
    "\n",
    "2. ***the local scope***. \n",
    "A name is in a local scope when defined *within a function*. \n",
    "Once the execution of a function is done, any name inside the local scope ceases to exist, which means you cannot access those names anymore outside of the function definition. \n",
    "\n",
    "3. ***the built-in scope*** \n",
    "consists of names in the p*re-defined built-ins module* Python provides, such as `print` and `sum`. \n",
    "\n",
    "> Python will look first in the local scope. If  cannot find the name, it will then and only then look in the global scope.If the name is in neither, then the built-in scope is searched.\n",
    "\n",
    "> We can alter the value of a global name within a function call using the keyword `global` followed by the name of the global variable that we wish to access and alter."
   ]
  },
  {
   "cell_type": "markdown",
   "metadata": {},
   "source": [
    "### Nested functions \n",
    "A function *inner* defined within another function *outer*\n",
    "\n",
    "> useful to use a process a number of times within a function.\n"
   ]
  },
  {
   "cell_type": "code",
   "execution_count": 3,
   "metadata": {},
   "outputs": [
    {
     "data": {
      "text/plain": [
       "(14, 13, 12)"
      ]
     },
     "metadata": {},
     "output_type": "display_data"
    }
   ],
   "source": [
    "def outterfunc(x1, x2, x3):\n",
    "    \"\"\"Adds 5 to each given value\"\"\"\n",
    "    def inner(x):\n",
    "        \"\"\"Returns the remainder plus 5 of a value.\"\"\"\n",
    "        return x + 5\n",
    "    return (inner(x1), inner(x2), inner(x3))\n",
    "\n",
    "display(outterfunc(9,8,7))"
   ]
  },
  {
   "cell_type": "code",
   "execution_count": 4,
   "metadata": {},
   "outputs": [
    {
     "name": "stdout",
     "output_type": "stream",
     "text": [
      "4 64\n"
     ]
    }
   ],
   "source": [
    "def raise_n(n):\n",
    "    \"\"\"Return the inner function.\"\"\"\n",
    "    def inner(x):\n",
    "        \"\"\"Raise x to the power of n.\"\"\"\n",
    "        raised = x ** n\n",
    "        return raised\n",
    "    return inner\n",
    "\n",
    "square = raise_n(2)\n",
    "cube = raise_n(3)\n",
    "print(square(2), cube(4))"
   ]
  },
  {
   "cell_type": "markdown",
   "metadata": {},
   "source": [
    "> `nonlocal` is another keyword used to create and changes names in an enclosing scope"
   ]
  },
  {
   "cell_type": "code",
   "execution_count": 7,
   "metadata": {},
   "outputs": [
    {
     "name": "stdout",
     "output_type": "stream",
     "text": [
      "househouse\n",
      "househouse!!!\n"
     ]
    }
   ],
   "source": [
    "# Define echo_shout()\n",
    "def vshout(word):\n",
    "    \"\"\"Change the value of a nonlocal variable\"\"\"\n",
    "    \n",
    "    # Concatenate word with itself: echo_word\n",
    "    vword = word + word\n",
    "    \n",
    "    # Print echo_word\n",
    "    print(vword)\n",
    "    \n",
    "    # Define inner function shout()\n",
    "    def shout():\n",
    "        \"\"\"Alter a variable in the enclosing scope\"\"\"    \n",
    "        # Use echo_word in nonlocal scope\n",
    "        nonlocal vword\n",
    "        \n",
    "        # Change echo_word to echo_word concatenated with '!!!'\n",
    "        vword = vword + '!!!'\n",
    "    \n",
    "    # Call function shout()\n",
    "    shout()\n",
    "    \n",
    "    # Print echo_word\n",
    "    print(vword)\n",
    "\n",
    "# Call function echo_shout() with argument 'hello'\n",
    "vshout('house')"
   ]
  },
  {
   "cell_type": "markdown",
   "metadata": {},
   "source": [
    "### Default arguments\n",
    "arg`=`defaultvalue\n",
    "\n",
    "### Flexible arguments\n",
    "`*args`\n",
    "`**kwargs`"
   ]
  },
  {
   "cell_type": "markdown",
   "metadata": {},
   "source": [
    "### Lambda functions\n",
    "anonymous"
   ]
  },
  {
   "cell_type": "code",
   "execution_count": 8,
   "metadata": {},
   "outputs": [
    {
     "name": "stdout",
     "output_type": "stream",
     "text": [
      "['a!!!', 'b!!!', 'c!!!', 'd!!!']\n"
     ]
    }
   ],
   "source": [
    "# Create a list of strings: \n",
    "spells = [\"a\", \"b\", \"c\", \"d\"]\n",
    "\n",
    "# Use map() to apply a lambda function over spells: \n",
    "shout_spells = map(lambda item: item+ '!!!', spells)\n",
    "\n",
    "# Convert shout_spells to a list: \n",
    "shout_spells_list = list(shout_spells)\n",
    "\n",
    "# Print the result\n",
    "print(shout_spells_list)"
   ]
  },
  {
   "cell_type": "markdown",
   "metadata": {},
   "source": [
    "#### useful Python funtions to use in lambda contructions"
   ]
  },
  {
   "cell_type": "code",
   "execution_count": 10,
   "metadata": {},
   "outputs": [
    {
     "name": "stdout",
     "output_type": "stream",
     "text": [
      "['apple', 'orange', 'banana']\n"
     ]
    }
   ],
   "source": [
    "# Create a list of strings: fellowship\n",
    "fruits = ['apple', 'orange', 'banana']\n",
    "\n",
    "# Use filter() to apply a lambda function over fellowship: \n",
    "result = filter(lambda item: len(item)>4, fruits)\n",
    "\n",
    "# Convert result to a list: \n",
    "\n",
    "result_list = list(result)\n",
    "\n",
    "# Print result_list\n",
    "print(result_list)"
   ]
  },
  {
   "cell_type": "code",
   "execution_count": 11,
   "metadata": {
    "scrolled": true
   },
   "outputs": [
    {
     "name": "stdout",
     "output_type": "stream",
     "text": [
      "robbsansaaryabrandonrickon\n"
     ]
    }
   ],
   "source": [
    "# The reduce() function is useful for performing some computation on a list \n",
    "# and, unlike map() and filter(), returns a single value as a result. \n",
    "\n",
    "from functools import reduce\n",
    "\n",
    "\n",
    "# Create a list of strings: \n",
    "stark = ['robb', 'sansa', 'arya', 'brandon', 'rickon']\n",
    "\n",
    "# Use reduce() to apply a lambda function over stark: \n",
    "result = reduce(lambda item1, item2: item1+item2, stark)\n",
    "\n",
    "# Print the result\n",
    "print(result)"
   ]
  },
  {
   "cell_type": "markdown",
   "metadata": {},
   "source": [
    "### Classes --> data structures (objects, instances of a class)\n",
    "Classes are like blueprints for objects. They describe the possible states and behaviors that every object of a certain type could have. They are templates.\n",
    "> State information in Python is contained in attributes, and behavior information in methods."
   ]
  },
  {
   "cell_type": "markdown",
   "metadata": {},
   "source": [
    "###### create an \"empty\" class:  including the pass statement after the class declaration."
   ]
  },
  {
   "cell_type": "code",
   "execution_count": null,
   "metadata": {},
   "outputs": [],
   "source": [
    "# Create an empty class\n",
    "class Thing:\n",
    "    pass\n",
    "\n",
    "# Create an object t of class Thing\n",
    "t = Thing()"
   ]
  },
  {
   "cell_type": "markdown",
   "metadata": {},
   "source": [
    "###### Add methods to a class (regular methods\n",
    "like a regular Python function, with one exception: the special `self` argument that every method will have as the first argument, possibly followed by other arguments."
   ]
  },
  {
   "cell_type": "markdown",
   "metadata": {},
   "source": [
    "##### Add an attribute to class (instance attributes)\n",
    "In Python attributes, like variables, are created by assignment, meaning an attribute manifests into existence only when a value is assigned to it."
   ]
  },
  {
   "cell_type": "markdown",
   "metadata": {},
   "source": [
    "##### Constructor\n",
    "to add attributes to the object when creating the instance or object, Python allows you to add a special method called the constructor (`__init__`) that is automatically called every time an object is created.\n",
    "The constructor is also a good place to set the default values for attributes.\n",
    "> Best practices:\n",
    "* try to avoid defining attributes outside the constructor\n",
    "* To name your classes, use CamelCcase\n",
    "* For methods and attributes, it's the opposite: words should be separated by underscores and start with lowercase letters.\n",
    "* the name \"self\" is a convention, use it\n",
    "* classes, like functions, allow for docstrings which are displayed when `help()` is called on the object. Remember that\n",
    "\n",
    ">`dir(ClassName)` displays all atributtes and methods"
   ]
  },
  {
   "cell_type": "markdown",
   "metadata": {},
   "source": [
    "##### Add an attribute to class (class attributes)\n",
    "data that should not differ among object instances."
   ]
  },
  {
   "cell_type": "markdown",
   "metadata": {},
   "source": [
    "#### Class methods\n",
    "To define a class method,  start with a classmethod decorator, followed by a method definition. \n",
    "The first argument is `cls`, referring to the class, just like the self argument was a reference to a particular instance.\n",
    "Then you write it as any other function, keeping in mind that you can't refer to any instance attributes in that method. To call a class method, we use `class-dot-method` syntax, rather than `object-dot-method` syntax.\n",
    "> The main use case is alternative constructors.\n",
    "A class can only have one init method, but there might be multiple ways to initialize an object. For example, from data stored in a file"
   ]
  },
  {
   "cell_type": "code",
   "execution_count": 3,
   "metadata": {},
   "outputs": [
    {
     "name": "stdout",
     "output_type": "stream",
     "text": [
      "10\n",
      "10\n",
      "MAX_SPEED of p1 and p2 before assignment:\n",
      "3\n",
      "3\n",
      "MAX_SPEED of p1 and p2 after assignment:\n",
      "7\n",
      "3\n",
      "MAX_SPEED of Player:\n",
      "3\n"
     ]
    }
   ],
   "source": [
    "# Create a Player class\n",
    "class Player:\n",
    "    MAX_POSITION = 10\n",
    "    MAX_SPEED = 3\n",
    "    def __init__(self, position=0):\n",
    "        self.position = 0\n",
    "\n",
    "\n",
    "# Print Player.MAX_POSITION       \n",
    "print(Player.MAX_POSITION)\n",
    "\n",
    "# Create a player p and print its MAX_POSITITON\n",
    "p = Player()\n",
    "print(p.MAX_POSITION)\n",
    "\n",
    "# Create Players p1 and p2\n",
    "p1 = Player()\n",
    "p2 = Player()\n",
    "\n",
    "print(\"MAX_SPEED of p1 and p2 before assignment:\")\n",
    "# Print p1.MAX_SPEED and p2.MAX_SPEED\n",
    "print(p1.MAX_SPEED)\n",
    "print(p2.MAX_SPEED)\n",
    "\n",
    "# Assign 7 to p1.MAX_SPEED\n",
    "p1.MAX_SPEED = 7\n",
    "\n",
    "print(\"MAX_SPEED of p1 and p2 after assignment:\")\n",
    "# Print p1.MAX_SPEED and p2.MAX_SPEED\n",
    "print(p1.MAX_SPEED)\n",
    "print(p2.MAX_SPEED)\n",
    "\n",
    "print(\"MAX_SPEED of Player:\")\n",
    "# Print Player.MAX_SPEED\n",
    "print(Player.MAX_SPEED)"
   ]
  },
  {
   "cell_type": "code",
   "execution_count": 4,
   "metadata": {},
   "outputs": [
    {
     "name": "stdout",
     "output_type": "stream",
     "text": [
      "2020\n",
      "4\n",
      "30\n"
     ]
    }
   ],
   "source": [
    "class BetterDate:    \n",
    "    # Constructor\n",
    "    def __init__(self, year, month, day):\n",
    "      # Recall that Python allows multiple variable assignments in one line\n",
    "      self.year, self.month, self.day = year, month, day\n",
    "    \n",
    "    # Define a class method from_str\n",
    "    @classmethod\n",
    "    def from_str(cls, datestr):\n",
    "        # Split the string at \"-\" and convert each part to integer\n",
    "        parts = datestr.split(\"-\")\n",
    "        year, month, day = int(parts[0]), int(parts[1]), int(parts[2])\n",
    "        # Return the class instance\n",
    "        return BetterDate(year, month, day)\n",
    "        \n",
    "bd = BetterDate.from_str('2020-04-30')   \n",
    "print(bd.year)\n",
    "print(bd.month)\n",
    "print(bd.day)"
   ]
  },
  {
   "cell_type": "markdown",
   "metadata": {},
   "source": [
    "### Class inheritance: code reuse\n",
    "It's the mechanism by which we can define a new class that gets all the the functionality of another class plus maybe something extra without re-implementing the code.It represents \"is-a\" relationship\n",
    "> We call the \"child class\" a **subclass**"
   ]
  },
  {
   "cell_type": "markdown",
   "metadata": {},
   "source": [
    "#### Object equality\n",
    "* The reason why Python doesn't consider two objects with the same data equal by default has to do with how the objects and variables representing them are stored. Behind the scenes, when an object is created, Python allocates a chunk of memory to that object, and the variable that the object is assigned to actually contains just the reference to the memory chunk. \n",
    "* We can define a special method for this. We can re-define the method `__eq__` to execute custom comparison code. The method should accept two arguments, referring to the objects to be compared. They are usually called `self` and `other` by convention. It should always return a Boolean value True or False. \n",
    "\n",
    "> Other comparison operators:\n",
    "*  you'd like to have a custom \"not equals\" method, you could implement `__ne__`\n",
    "* `__ge__`\n",
    "* `__lt__`\n",
    "* and more"
   ]
  },
  {
   "cell_type": "markdown",
   "metadata": {},
   "source": [
    "#### string representation\n",
    "There are two special methods that we can define in a class that will return a printable representation of an object:\n",
    "* `__str__` is executed when we call `print` or `str` on an object. str is supposed to give an informal representation, suitable for an end user\n",
    "* `__repr__`  is executed when we call `repr` on the object, or when we print it in the console without calling print explicitly. repr is mainly used by developers (print a string that can be used to reproduce the object)\n",
    "> If you only choose to implement one of them, chose repr, because it is also used as a fall-back for print when str is not defined.\n",
    "> reminder: the triple quotes are used in Python to define multi-line strings, and the format method is used on strings to substitute values inside curly brackets with variables"
   ]
  },
  {
   "cell_type": "markdown",
   "metadata": {},
   "source": [
    "**\"Liskov substitution principle\"** \n",
    "A base class should be interchangeable with any of its subclasses without altering any properties of the surrounding program. \n",
    "> This should be true both syntactically and semantically. \n",
    "* On the one hand, the method in a subclass should have a signature with parameters and returned values compatible with the method in the parent class. \n",
    "* On the other hand, the state of objects also must stay consistent; the subclass method shouldn't rely on stronger input conditions, should not provide weaker output conditions, it should not throw additional exceptions and so on."
   ]
  },
  {
   "cell_type": "markdown",
   "metadata": {},
   "source": [
    "> All class data in Python is technically public. \n",
    "\n",
    "Conventions:\n",
    "\n",
    "1. **Naming convention**\n",
    "* using a single leading underscore to indicate an attribute or method that isn't a part of the public class interface, and can change without notice.\n",
    "* Attributes and methods whose names start with a double underscore are the closest thing Python has to \"private\" fields and methods of other programming languages. Python implements name mangling: any name starting with a double underscore will be automatically prepended by the name of the class when interpreted by Python, and that new name will be the actual internal name of the attribute or method.\n",
    "> pseudo-private attributes is to prevent name clashes in child classes\n",
    "\n",
    "2. special kinds of attributes called properties that allow you to control how each attribute is modified\n",
    "using the property decorator: \n",
    "* define an \"internal\" attribute that will store the data(it is recommended to start the name with one leading underscore). \n",
    "* define a method whose name is the exact name we'd like the restricted attribute to have, and put a decorator `@property` on it. The method just returns the actual internal attribute that is storing the data. This method will be called when using normal dot notation without undescore (and we'll get the real attribute, that has a leading underscore)\n",
    "* implement a method with a decorator `@attributename.setter`. The method itself is again named exactly the same as the property  and it will be called when a value is assigned to the property attribute. It has a self argument, and an argument that represents the value to be assigned. This method will be called when the attribute is asigned to a new value by equality\n",
    "\n",
    "> if you do not define a setter method, the property will be read-only\n",
    "\n",
    "\n",
    "\n",
    "3. special methods that you can override to change how attributes are used entirely"
   ]
  }
 ],
 "metadata": {
  "kernelspec": {
   "display_name": "Python 3",
   "language": "python",
   "name": "python3"
  },
  "language_info": {
   "codemirror_mode": {
    "name": "ipython",
    "version": 3
   },
   "file_extension": ".py",
   "mimetype": "text/x-python",
   "name": "python",
   "nbconvert_exporter": "python",
   "pygments_lexer": "ipython3",
   "version": "3.8.5"
  }
 },
 "nbformat": 4,
 "nbformat_minor": 4
}
