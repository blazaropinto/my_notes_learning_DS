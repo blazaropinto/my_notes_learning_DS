{
 "cells": [
  {
   "cell_type": "markdown",
   "metadata": {},
   "source": [
    "###  Built-in functions"
   ]
  },
  {
   "cell_type": "markdown",
   "metadata": {},
   "source": [
    "### User-defined functions\n",
    "\n",
    "* The first piece of code is called a *function header*.the keyword `def`, followed by the chosen function name, a set of parentheses and a colon. \n",
    "> Note:  when you define a function, you write **parameters** in the function header. When you call a function, you pass **arguments** into the function.\n",
    "\n",
    "* Function *docstrings* are placed in the immediate line after the function header and are placed in between triple quotation marks.\n",
    "> ***Docstrings*** are used to describe what your function does, such as the computations it performs or its return values. These descriptions serve as documentation for your function so that anyone who reads your function's docstring understands what your function does, without having to trace through all the code in the function definition.\n",
    "\n",
    "* Then, the function body\n",
    "> Function bodies need to be indented by a consistent number of spaces and the choice of 4 is common.\n",
    "\n",
    "* The output\n",
    "> You can have your function return the new value by adding the `return` keyword."
   ]
  },
  {
   "cell_type": "markdown",
   "metadata": {},
   "source": [
    "##### without parameters"
   ]
  },
  {
   "cell_type": "markdown",
   "metadata": {},
   "source": [
    "##### with single parameters"
   ]
  },
  {
   "cell_type": "markdown",
   "metadata": {},
   "source": [
    "##### return a single value"
   ]
  },
  {
   "cell_type": "markdown",
   "metadata": {},
   "source": [
    "##### pass multiple arguments"
   ]
  },
  {
   "cell_type": "markdown",
   "metadata": {},
   "source": [
    "##### return multiple values\n",
    "You can  make your function return multiple values by constructing tuples in your functions."
   ]
  },
  {
   "cell_type": "code",
   "execution_count": 2,
   "metadata": {},
   "outputs": [
    {
     "data": {
      "text/plain": [
       "2"
      ]
     },
     "metadata": {},
     "output_type": "display_data"
    },
    {
     "data": {
      "text/plain": [
       "4"
      ]
     },
     "metadata": {},
     "output_type": "display_data"
    },
    {
     "data": {
      "text/plain": [
       "6"
      ]
     },
     "metadata": {},
     "output_type": "display_data"
    },
    {
     "name": "stdout",
     "output_type": "stream",
     "text": [
      "4\n"
     ]
    }
   ],
   "source": [
    "# You can also unpack a tuple into several variables in one line.\n",
    "even_nums = (2, 4, 6)\n",
    "a, b, c = even_nums\n",
    "display(a, b, c)\n",
    "print(even_nums[1])"
   ]
  },
  {
   "cell_type": "markdown",
   "metadata": {},
   "source": [
    "### Scope (in the context of user-defined functions)\n",
    "tells you which part of a program an object or a name (variable or function) may be accessed from\n",
    "\n",
    "1. ***the global scope*** \n",
    "A name is in the global scope when defined *in the main body of a script* or a Python program.\n",
    "\n",
    "2. ***the local scope***. \n",
    "A name is in a local scope when defined *within a function*. \n",
    "Once the execution of a function is done, any name inside the local scope ceases to exist, which means you cannot access those names anymore outside of the function definition. \n",
    "\n",
    "3. ***the built-in scope*** \n",
    "consists of names in the p*re-defined built-ins module* Python provides, such as `print` and `sum`. \n",
    "\n",
    "> Python will look first in the local scope. If  cannot find the name, it will then and only then look in the global scope.If the name is in neither, then the built-in scope is searched.\n",
    "\n",
    "> We can alter the value of a global name within a function call using the keyword `global` followed by the name of the global variable that we wish to access and alter."
   ]
  },
  {
   "cell_type": "markdown",
   "metadata": {},
   "source": [
    "### Nested functions \n",
    "A function *inner* defined within another function *outer*\n",
    "\n",
    "> useful to use a process a number of times within a function.\n"
   ]
  },
  {
   "cell_type": "code",
   "execution_count": 3,
   "metadata": {},
   "outputs": [
    {
     "data": {
      "text/plain": [
       "(14, 13, 12)"
      ]
     },
     "metadata": {},
     "output_type": "display_data"
    }
   ],
   "source": [
    "def outterfunc(x1, x2, x3):\n",
    "    \"\"\"Adds 5 to each given value\"\"\"\n",
    "    def inner(x):\n",
    "        \"\"\"Returns the remainder plus 5 of a value.\"\"\"\n",
    "        return x + 5\n",
    "    return (inner(x1), inner(x2), inner(x3))\n",
    "\n",
    "display(outterfunc(9,8,7))"
   ]
  },
  {
   "cell_type": "code",
   "execution_count": 4,
   "metadata": {},
   "outputs": [
    {
     "name": "stdout",
     "output_type": "stream",
     "text": [
      "4 64\n"
     ]
    }
   ],
   "source": [
    "def raise_n(n):\n",
    "    \"\"\"Return the inner function.\"\"\"\n",
    "    def inner(x):\n",
    "        \"\"\"Raise x to the power of n.\"\"\"\n",
    "        raised = x ** n\n",
    "        return raised\n",
    "    return inner\n",
    "\n",
    "square = raise_n(2)\n",
    "cube = raise_n(3)\n",
    "print(square(2), cube(4))"
   ]
  },
  {
   "cell_type": "markdown",
   "metadata": {},
   "source": [
    "> `nonlocal` is another keyword used to create and changes names in an enclosing scope"
   ]
  },
  {
   "cell_type": "code",
   "execution_count": 7,
   "metadata": {},
   "outputs": [
    {
     "name": "stdout",
     "output_type": "stream",
     "text": [
      "househouse\n",
      "househouse!!!\n"
     ]
    }
   ],
   "source": [
    "# Define echo_shout()\n",
    "def vshout(word):\n",
    "    \"\"\"Change the value of a nonlocal variable\"\"\"\n",
    "    \n",
    "    # Concatenate word with itself: echo_word\n",
    "    vword = word + word\n",
    "    \n",
    "    # Print echo_word\n",
    "    print(vword)\n",
    "    \n",
    "    # Define inner function shout()\n",
    "    def shout():\n",
    "        \"\"\"Alter a variable in the enclosing scope\"\"\"    \n",
    "        # Use echo_word in nonlocal scope\n",
    "        nonlocal vword\n",
    "        \n",
    "        # Change echo_word to echo_word concatenated with '!!!'\n",
    "        vword = vword + '!!!'\n",
    "    \n",
    "    # Call function shout()\n",
    "    shout()\n",
    "    \n",
    "    # Print echo_word\n",
    "    print(vword)\n",
    "\n",
    "# Call function echo_shout() with argument 'hello'\n",
    "vshout('house')"
   ]
  },
  {
   "cell_type": "markdown",
   "metadata": {},
   "source": [
    "### Default arguments\n",
    "arg`=`defaultvalue\n",
    "\n",
    "### Flexible arguments\n",
    "`*args`\n",
    "`**kwargs`"
   ]
  },
  {
   "cell_type": "markdown",
   "metadata": {},
   "source": [
    "### Lambda functions\n",
    "anonymous"
   ]
  },
  {
   "cell_type": "code",
   "execution_count": 8,
   "metadata": {},
   "outputs": [
    {
     "name": "stdout",
     "output_type": "stream",
     "text": [
      "['a!!!', 'b!!!', 'c!!!', 'd!!!']\n"
     ]
    }
   ],
   "source": [
    "# Create a list of strings: \n",
    "spells = [\"a\", \"b\", \"c\", \"d\"]\n",
    "\n",
    "# Use map() to apply a lambda function over spells: \n",
    "shout_spells = map(lambda item: item+ '!!!', spells)\n",
    "\n",
    "# Convert shout_spells to a list: \n",
    "shout_spells_list = list(shout_spells)\n",
    "\n",
    "# Print the result\n",
    "print(shout_spells_list)"
   ]
  },
  {
   "cell_type": "code",
   "execution_count": 10,
   "metadata": {},
   "outputs": [
    {
     "name": "stdout",
     "output_type": "stream",
     "text": [
      "['apple', 'orange', 'banana']\n"
     ]
    }
   ],
   "source": [
    "# Create a list of strings: fellowship\n",
    "fruits = ['apple', 'orange', 'banana']\n",
    "\n",
    "# Use filter() to apply a lambda function over fellowship: \n",
    "result = filter(lambda item: len(item)>4, fruits)\n",
    "\n",
    "# Convert result to a list: \n",
    "\n",
    "result_list = list(result)\n",
    "\n",
    "# Print result_list\n",
    "print(result_list)"
   ]
  },
  {
   "cell_type": "code",
   "execution_count": 11,
   "metadata": {},
   "outputs": [
    {
     "name": "stdout",
     "output_type": "stream",
     "text": [
      "robbsansaaryabrandonrickon\n"
     ]
    }
   ],
   "source": [
    "# The reduce() function is useful for performing some computation on a list \n",
    "# and, unlike map() and filter(), returns a single value as a result. \n",
    "\n",
    "from functools import reduce\n",
    "\n",
    "\n",
    "# Create a list of strings: \n",
    "stark = ['robb', 'sansa', 'arya', 'brandon', 'rickon']\n",
    "\n",
    "# Use reduce() to apply a lambda function over stark: \n",
    "result = reduce(lambda item1, item2: item1+item2, stark)\n",
    "\n",
    "# Print the result\n",
    "print(result)"
   ]
  }
 ],
 "metadata": {
  "kernelspec": {
   "display_name": "Python 3",
   "language": "python",
   "name": "python3"
  },
  "language_info": {
   "codemirror_mode": {
    "name": "ipython",
    "version": 3
   },
   "file_extension": ".py",
   "mimetype": "text/x-python",
   "name": "python",
   "nbconvert_exporter": "python",
   "pygments_lexer": "ipython3",
   "version": "3.8.5"
  }
 },
 "nbformat": 4,
 "nbformat_minor": 4
}
